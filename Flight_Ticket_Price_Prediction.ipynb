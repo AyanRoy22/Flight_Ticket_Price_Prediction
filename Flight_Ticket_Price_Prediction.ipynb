{
 "cells": [
  {
   "cell_type": "code",
   "execution_count": 86,
   "metadata": {
    "id": "cICG0xOzx5u9"
   },
   "outputs": [],
   "source": [
    "import numpy as np\n",
    "import pandas as pd\n",
    "import seaborn as sns\n",
    "import matplotlib.pyplot as plt"
   ]
  },
  {
   "cell_type": "code",
   "execution_count": 87,
   "metadata": {
    "id": "6mZogqYuyAZs"
   },
   "outputs": [],
   "source": [
    "train = pd.read_excel(\"C:/Users/HP/Documents/praxis/Projects/Data_Train.xlsx\")\n",
    "test = pd.read_excel(\"C:/Users/HP/Documents/praxis/Projects/Test_set.xlsx\")"
   ]
  },
  {
   "cell_type": "markdown",
   "metadata": {
    "id": "fxc9mTdITv7J"
   },
   "source": [
    "## Data Description\n",
    "\n",
    "We are provided with prices of flight tickets for various airlines between the months of March and June of 2019 and between various cities. <br>\n",
    "**Size of training set:** 10683 records <br>\n",
    "**Size of test set:** 2671 records <br>\n",
    "FEATURES: <br>\n",
    "Airline: The name of the airline. <br>\n",
    "Date_of_Journey: The date of the journey <br>\n",
    "Source: The source from which the service begins. <br>\n",
    "Destination: The destination where the service ends. <br>\n",
    "Route: The route taken by the flight to reach the destination. <br>\n",
    "Dep_Time: The time when the journey starts from the source. <br>\n",
    "Arrival_Time: Time of arrival at the destination. <br>\n",
    "Duration: Total duration of the flight. <br>\n",
    "Total_Stops: Total stops between the source and destination <br>\n",
    "Additional_Info: Additional information about the flight <br>\n",
    "Price: The price of the ticket"
   ]
  },
  {
   "cell_type": "code",
   "execution_count": 88,
   "metadata": {},
   "outputs": [
    {
     "data": {
      "text/plain": [
       "(10683, 11)"
      ]
     },
     "execution_count": 88,
     "metadata": {},
     "output_type": "execute_result"
    }
   ],
   "source": [
    "train.shape"
   ]
  },
  {
   "cell_type": "code",
   "execution_count": 89,
   "metadata": {
    "colab": {
     "base_uri": "https://localhost:8080/",
     "height": 206
    },
    "id": "hjQcfuUm51tW",
    "outputId": "5e82463a-c7d8-4a43-e94f-a10d83c18375"
   },
   "outputs": [
    {
     "data": {
      "text/html": [
       "<div>\n",
       "<style scoped>\n",
       "    .dataframe tbody tr th:only-of-type {\n",
       "        vertical-align: middle;\n",
       "    }\n",
       "\n",
       "    .dataframe tbody tr th {\n",
       "        vertical-align: top;\n",
       "    }\n",
       "\n",
       "    .dataframe thead th {\n",
       "        text-align: right;\n",
       "    }\n",
       "</style>\n",
       "<table border=\"1\" class=\"dataframe\">\n",
       "  <thead>\n",
       "    <tr style=\"text-align: right;\">\n",
       "      <th></th>\n",
       "      <th>Airline</th>\n",
       "      <th>Date_of_Journey</th>\n",
       "      <th>Source</th>\n",
       "      <th>Destination</th>\n",
       "      <th>Route</th>\n",
       "      <th>Dep_Time</th>\n",
       "      <th>Arrival_Time</th>\n",
       "      <th>Duration</th>\n",
       "      <th>Total_Stops</th>\n",
       "      <th>Additional_Info</th>\n",
       "    </tr>\n",
       "  </thead>\n",
       "  <tbody>\n",
       "    <tr>\n",
       "      <th>0</th>\n",
       "      <td>Jet Airways</td>\n",
       "      <td>6/06/2019</td>\n",
       "      <td>Delhi</td>\n",
       "      <td>Cochin</td>\n",
       "      <td>DEL → BOM → COK</td>\n",
       "      <td>17:30</td>\n",
       "      <td>04:25 07 Jun</td>\n",
       "      <td>10h 55m</td>\n",
       "      <td>1 stop</td>\n",
       "      <td>No info</td>\n",
       "    </tr>\n",
       "    <tr>\n",
       "      <th>1</th>\n",
       "      <td>IndiGo</td>\n",
       "      <td>12/05/2019</td>\n",
       "      <td>Kolkata</td>\n",
       "      <td>Banglore</td>\n",
       "      <td>CCU → MAA → BLR</td>\n",
       "      <td>06:20</td>\n",
       "      <td>10:20</td>\n",
       "      <td>4h</td>\n",
       "      <td>1 stop</td>\n",
       "      <td>No info</td>\n",
       "    </tr>\n",
       "    <tr>\n",
       "      <th>2</th>\n",
       "      <td>Jet Airways</td>\n",
       "      <td>21/05/2019</td>\n",
       "      <td>Delhi</td>\n",
       "      <td>Cochin</td>\n",
       "      <td>DEL → BOM → COK</td>\n",
       "      <td>19:15</td>\n",
       "      <td>19:00 22 May</td>\n",
       "      <td>23h 45m</td>\n",
       "      <td>1 stop</td>\n",
       "      <td>In-flight meal not included</td>\n",
       "    </tr>\n",
       "    <tr>\n",
       "      <th>3</th>\n",
       "      <td>Multiple carriers</td>\n",
       "      <td>21/05/2019</td>\n",
       "      <td>Delhi</td>\n",
       "      <td>Cochin</td>\n",
       "      <td>DEL → BOM → COK</td>\n",
       "      <td>08:00</td>\n",
       "      <td>21:00</td>\n",
       "      <td>13h</td>\n",
       "      <td>1 stop</td>\n",
       "      <td>No info</td>\n",
       "    </tr>\n",
       "    <tr>\n",
       "      <th>4</th>\n",
       "      <td>Air Asia</td>\n",
       "      <td>24/06/2019</td>\n",
       "      <td>Banglore</td>\n",
       "      <td>Delhi</td>\n",
       "      <td>BLR → DEL</td>\n",
       "      <td>23:55</td>\n",
       "      <td>02:45 25 Jun</td>\n",
       "      <td>2h 50m</td>\n",
       "      <td>non-stop</td>\n",
       "      <td>No info</td>\n",
       "    </tr>\n",
       "  </tbody>\n",
       "</table>\n",
       "</div>"
      ],
      "text/plain": [
       "             Airline Date_of_Journey    Source Destination            Route  \\\n",
       "0        Jet Airways       6/06/2019     Delhi      Cochin  DEL → BOM → COK   \n",
       "1             IndiGo      12/05/2019   Kolkata    Banglore  CCU → MAA → BLR   \n",
       "2        Jet Airways      21/05/2019     Delhi      Cochin  DEL → BOM → COK   \n",
       "3  Multiple carriers      21/05/2019     Delhi      Cochin  DEL → BOM → COK   \n",
       "4           Air Asia      24/06/2019  Banglore       Delhi        BLR → DEL   \n",
       "\n",
       "  Dep_Time  Arrival_Time Duration Total_Stops              Additional_Info  \n",
       "0    17:30  04:25 07 Jun  10h 55m      1 stop                      No info  \n",
       "1    06:20         10:20       4h      1 stop                      No info  \n",
       "2    19:15  19:00 22 May  23h 45m      1 stop  In-flight meal not included  \n",
       "3    08:00         21:00      13h      1 stop                      No info  \n",
       "4    23:55  02:45 25 Jun   2h 50m    non-stop                      No info  "
      ]
     },
     "execution_count": 89,
     "metadata": {},
     "output_type": "execute_result"
    }
   ],
   "source": [
    "test.head()"
   ]
  },
  {
   "cell_type": "code",
   "execution_count": 90,
   "metadata": {
    "colab": {
     "base_uri": "https://localhost:8080/",
     "height": 206
    },
    "id": "zuJEp288yAWv",
    "outputId": "b2130462-0799-48e5-cc2a-b2b563b30eb5"
   },
   "outputs": [
    {
     "data": {
      "text/html": [
       "<div>\n",
       "<style scoped>\n",
       "    .dataframe tbody tr th:only-of-type {\n",
       "        vertical-align: middle;\n",
       "    }\n",
       "\n",
       "    .dataframe tbody tr th {\n",
       "        vertical-align: top;\n",
       "    }\n",
       "\n",
       "    .dataframe thead th {\n",
       "        text-align: right;\n",
       "    }\n",
       "</style>\n",
       "<table border=\"1\" class=\"dataframe\">\n",
       "  <thead>\n",
       "    <tr style=\"text-align: right;\">\n",
       "      <th></th>\n",
       "      <th>Airline</th>\n",
       "      <th>Date_of_Journey</th>\n",
       "      <th>Source</th>\n",
       "      <th>Destination</th>\n",
       "      <th>Route</th>\n",
       "      <th>Dep_Time</th>\n",
       "      <th>Arrival_Time</th>\n",
       "      <th>Duration</th>\n",
       "      <th>Total_Stops</th>\n",
       "      <th>Additional_Info</th>\n",
       "      <th>Price</th>\n",
       "    </tr>\n",
       "  </thead>\n",
       "  <tbody>\n",
       "    <tr>\n",
       "      <th>0</th>\n",
       "      <td>IndiGo</td>\n",
       "      <td>24/03/2019</td>\n",
       "      <td>Banglore</td>\n",
       "      <td>New Delhi</td>\n",
       "      <td>BLR → DEL</td>\n",
       "      <td>22:20</td>\n",
       "      <td>01:10 22 Mar</td>\n",
       "      <td>2h 50m</td>\n",
       "      <td>non-stop</td>\n",
       "      <td>No info</td>\n",
       "      <td>3897</td>\n",
       "    </tr>\n",
       "    <tr>\n",
       "      <th>1</th>\n",
       "      <td>Air India</td>\n",
       "      <td>1/05/2019</td>\n",
       "      <td>Kolkata</td>\n",
       "      <td>Banglore</td>\n",
       "      <td>CCU → IXR → BBI → BLR</td>\n",
       "      <td>05:50</td>\n",
       "      <td>13:15</td>\n",
       "      <td>7h 25m</td>\n",
       "      <td>2 stops</td>\n",
       "      <td>No info</td>\n",
       "      <td>7662</td>\n",
       "    </tr>\n",
       "    <tr>\n",
       "      <th>2</th>\n",
       "      <td>Jet Airways</td>\n",
       "      <td>9/06/2019</td>\n",
       "      <td>Delhi</td>\n",
       "      <td>Cochin</td>\n",
       "      <td>DEL → LKO → BOM → COK</td>\n",
       "      <td>09:25</td>\n",
       "      <td>04:25 10 Jun</td>\n",
       "      <td>19h</td>\n",
       "      <td>2 stops</td>\n",
       "      <td>No info</td>\n",
       "      <td>13882</td>\n",
       "    </tr>\n",
       "    <tr>\n",
       "      <th>3</th>\n",
       "      <td>IndiGo</td>\n",
       "      <td>12/05/2019</td>\n",
       "      <td>Kolkata</td>\n",
       "      <td>Banglore</td>\n",
       "      <td>CCU → NAG → BLR</td>\n",
       "      <td>18:05</td>\n",
       "      <td>23:30</td>\n",
       "      <td>5h 25m</td>\n",
       "      <td>1 stop</td>\n",
       "      <td>No info</td>\n",
       "      <td>6218</td>\n",
       "    </tr>\n",
       "    <tr>\n",
       "      <th>4</th>\n",
       "      <td>IndiGo</td>\n",
       "      <td>01/03/2019</td>\n",
       "      <td>Banglore</td>\n",
       "      <td>New Delhi</td>\n",
       "      <td>BLR → NAG → DEL</td>\n",
       "      <td>16:50</td>\n",
       "      <td>21:35</td>\n",
       "      <td>4h 45m</td>\n",
       "      <td>1 stop</td>\n",
       "      <td>No info</td>\n",
       "      <td>13302</td>\n",
       "    </tr>\n",
       "  </tbody>\n",
       "</table>\n",
       "</div>"
      ],
      "text/plain": [
       "       Airline Date_of_Journey    Source Destination                  Route  \\\n",
       "0       IndiGo      24/03/2019  Banglore   New Delhi              BLR → DEL   \n",
       "1    Air India       1/05/2019   Kolkata    Banglore  CCU → IXR → BBI → BLR   \n",
       "2  Jet Airways       9/06/2019     Delhi      Cochin  DEL → LKO → BOM → COK   \n",
       "3       IndiGo      12/05/2019   Kolkata    Banglore        CCU → NAG → BLR   \n",
       "4       IndiGo      01/03/2019  Banglore   New Delhi        BLR → NAG → DEL   \n",
       "\n",
       "  Dep_Time  Arrival_Time Duration Total_Stops Additional_Info  Price  \n",
       "0    22:20  01:10 22 Mar   2h 50m    non-stop         No info   3897  \n",
       "1    05:50         13:15   7h 25m     2 stops         No info   7662  \n",
       "2    09:25  04:25 10 Jun      19h     2 stops         No info  13882  \n",
       "3    18:05         23:30   5h 25m      1 stop         No info   6218  \n",
       "4    16:50         21:35   4h 45m      1 stop         No info  13302  "
      ]
     },
     "execution_count": 90,
     "metadata": {},
     "output_type": "execute_result"
    }
   ],
   "source": [
    "train.head()"
   ]
  },
  {
   "cell_type": "code",
   "execution_count": 91,
   "metadata": {
    "colab": {
     "base_uri": "https://localhost:8080/"
    },
    "id": "XH62FjoDyARJ",
    "outputId": "37eccb61-00d0-4b0a-e72c-f6c5d8964191"
   },
   "outputs": [
    {
     "name": "stdout",
     "output_type": "stream",
     "text": [
      "<class 'pandas.core.frame.DataFrame'>\n",
      "RangeIndex: 10683 entries, 0 to 10682\n",
      "Data columns (total 11 columns):\n",
      " #   Column           Non-Null Count  Dtype \n",
      "---  ------           --------------  ----- \n",
      " 0   Airline          10683 non-null  object\n",
      " 1   Date_of_Journey  10683 non-null  object\n",
      " 2   Source           10683 non-null  object\n",
      " 3   Destination      10683 non-null  object\n",
      " 4   Route            10682 non-null  object\n",
      " 5   Dep_Time         10683 non-null  object\n",
      " 6   Arrival_Time     10683 non-null  object\n",
      " 7   Duration         10683 non-null  object\n",
      " 8   Total_Stops      10682 non-null  object\n",
      " 9   Additional_Info  10683 non-null  object\n",
      " 10  Price            10683 non-null  int64 \n",
      "dtypes: int64(1), object(10)\n",
      "memory usage: 918.2+ KB\n"
     ]
    }
   ],
   "source": [
    "train.info()"
   ]
  },
  {
   "cell_type": "markdown",
   "metadata": {
    "id": "DhFWOIauWTSq"
   },
   "source": [
    "## Data Preprocessing"
   ]
  },
  {
   "cell_type": "code",
   "execution_count": 92,
   "metadata": {
    "colab": {
     "base_uri": "https://localhost:8080/"
    },
    "id": "0nU6vZoxQUfv",
    "outputId": "6224ca06-3a20-4ae3-d0cf-19a5343f1e68"
   },
   "outputs": [
    {
     "data": {
      "text/plain": [
       "Airline              12\n",
       "Date_of_Journey      44\n",
       "Source                5\n",
       "Destination           6\n",
       "Route               128\n",
       "Dep_Time            222\n",
       "Arrival_Time       1343\n",
       "Duration            368\n",
       "Total_Stops           5\n",
       "Additional_Info      10\n",
       "Price              1870\n",
       "dtype: int64"
      ]
     },
     "execution_count": 92,
     "metadata": {},
     "output_type": "execute_result"
    }
   ],
   "source": [
    "train.nunique()"
   ]
  },
  {
   "cell_type": "markdown",
   "metadata": {
    "id": "6lpfYp5KWWH6"
   },
   "source": [
    "### Date Column"
   ]
  },
  {
   "cell_type": "code",
   "execution_count": 93,
   "metadata": {
    "id": "5SvfmGysZcKT"
   },
   "outputs": [],
   "source": [
    "train['Date_of_Journey'] = train['Date_of_Journey'].str.split('/')\n",
    "train['Date'] = train['Date_of_Journey'].str[0]\n",
    "train['Month'] = train['Date_of_Journey'].str[1]\n",
    "train['Year'] = train['Date_of_Journey'].str[2]"
   ]
  },
  {
   "cell_type": "code",
   "execution_count": 94,
   "metadata": {},
   "outputs": [
    {
     "name": "stdout",
     "output_type": "stream",
     "text": [
      "24\n",
      "1\n",
      "9\n",
      "12\n",
      "01\n",
      "27\n",
      "18\n",
      "3\n",
      "15\n",
      "6\n",
      "21\n",
      "06\n",
      "09\n",
      "03\n"
     ]
    }
   ],
   "source": [
    "for i in train['Date'].unique():\n",
    "    print(i)"
   ]
  },
  {
   "cell_type": "code",
   "execution_count": 95,
   "metadata": {},
   "outputs": [],
   "source": [
    "# Some of the same dates have different values. replacing them with a single value\n",
    "train['Date'] = train['Date'].replace('01', '1')\n",
    "train['Date'] = train['Date'].replace('09', '9')\n",
    "train['Date'] = train['Date'].replace('03', '3')\n",
    "train['Date'] = train['Date'].replace('06', '6')"
   ]
  },
  {
   "cell_type": "code",
   "execution_count": 96,
   "metadata": {},
   "outputs": [],
   "source": [
    "test['Date_of_Journey'] = test['Date_of_Journey'].str.split('/')\n",
    "test['Date'] = test['Date_of_Journey'].str[0]\n",
    "test['Month'] = test['Date_of_Journey'].str[1]\n",
    "test['Year'] = test['Date_of_Journey'].str[2]"
   ]
  },
  {
   "cell_type": "code",
   "execution_count": 97,
   "metadata": {},
   "outputs": [],
   "source": [
    "test['Date'] = test['Date'].replace('01', '1')\n",
    "test['Date'] = test['Date'].replace('09', '9')\n",
    "test['Date'] = test['Date'].replace('03', '3')\n",
    "test['Date'] = test['Date'].replace('06', '6')"
   ]
  },
  {
   "cell_type": "markdown",
   "metadata": {
    "id": "XlqKLe9edN5e"
   },
   "source": [
    "### Source and Destination"
   ]
  },
  {
   "cell_type": "code",
   "execution_count": 98,
   "metadata": {
    "colab": {
     "base_uri": "https://localhost:8080/"
    },
    "id": "OF-EzPwtcKkM",
    "outputId": "389f2dd7-415e-4393-b13e-20e978461bf0"
   },
   "outputs": [
    {
     "data": {
      "text/plain": [
       "array(['Banglore', 'Kolkata', 'Delhi', 'Chennai', 'Mumbai'], dtype=object)"
      ]
     },
     "execution_count": 98,
     "metadata": {},
     "output_type": "execute_result"
    }
   ],
   "source": [
    "train['Source'].unique()"
   ]
  },
  {
   "cell_type": "code",
   "execution_count": 99,
   "metadata": {
    "colab": {
     "base_uri": "https://localhost:8080/"
    },
    "id": "gpA_W5KGcOsR",
    "outputId": "cd046512-4834-4021-d345-ed5c6a70db1e"
   },
   "outputs": [
    {
     "data": {
      "text/plain": [
       "array(['New Delhi', 'Banglore', 'Cochin', 'Kolkata', 'Delhi', 'Hyderabad'],\n",
       "      dtype=object)"
      ]
     },
     "execution_count": 99,
     "metadata": {},
     "output_type": "execute_result"
    }
   ],
   "source": [
    "train['Destination'].unique()"
   ]
  },
  {
   "cell_type": "markdown",
   "metadata": {
    "id": "SzaduTraYpcV"
   },
   "source": [
    "### Departure Time and Arrival Time"
   ]
  },
  {
   "cell_type": "markdown",
   "metadata": {
    "id": "wTny5A05VArG"
   },
   "source": [
    "Here I have split the departure time into categories such as midnight, morning, afternoon and evening to see how each period of the day affect the flight prices."
   ]
  },
  {
   "cell_type": "code",
   "execution_count": 100,
   "metadata": {
    "id": "GerBkGl6hn1D"
   },
   "outputs": [],
   "source": [
    "#print(train['Dep_Time'].value_counts().head(20))"
   ]
  },
  {
   "cell_type": "code",
   "execution_count": 101,
   "metadata": {
    "id": "1DtjtY_Ep3LC"
   },
   "outputs": [],
   "source": [
    "# For the train data\n",
    "train['Dep_Time'] = pd.to_datetime(train['Dep_Time'])\n",
    "\n",
    "# Extract the numerical values from time objects\n",
    "train['Dep_Time_Nu'] = train['Dep_Time'].dt.hour * 60 + train['Dep_Time'].dt.minute\n",
    "\n",
    "# Define time ranges for each category\n",
    "midnight_start = 0\n",
    "midnight_end = 359\n",
    "morning_start = 360\n",
    "morning_end = 719\n",
    "afternoon_start = 720\n",
    "afternoon_end = 1079\n",
    "evening_start = 1080\n",
    "evening_end = 1439\n",
    "\n",
    "\n",
    "train['Dep_Period'] = pd.cut(\n",
    "    train['Dep_Time_Nu'],\n",
    "    bins=[midnight_start, morning_start, afternoon_start, evening_start, evening_end],\n",
    "    labels=['Midnight', 'Morning', 'Afternoon', 'Evening'],\n",
    "    right=False\n",
    ")\n",
    "\n"
   ]
  },
  {
   "cell_type": "code",
   "execution_count": 102,
   "metadata": {},
   "outputs": [],
   "source": [
    "# For the test data\n",
    "test['Dep_Time'] = pd.to_datetime(test['Dep_Time'])\n",
    "\n",
    "# Extract the numerical values from time objects\n",
    "test['Dep_Time_Nu'] = test['Dep_Time'].dt.hour * 60 + test['Dep_Time'].dt.minute\n",
    "\n",
    "# Define time ranges for each category\n",
    "midnight_start = 0\n",
    "midnight_end = 359\n",
    "morning_start = 360\n",
    "morning_end = 719\n",
    "afternoon_start = 720\n",
    "afternoon_end = 1079\n",
    "evening_start = 1080\n",
    "evening_end = 1439\n",
    "\n",
    "\n",
    "test['Dep_Period'] = pd.cut(\n",
    "    test['Dep_Time_Nu'],\n",
    "    bins=[midnight_start, morning_start, afternoon_start, evening_start, evening_end],\n",
    "    labels=['Midnight', 'Morning', 'Afternoon', 'Evening'],\n",
    "    right=False\n",
    ")\n",
    "\n"
   ]
  },
  {
   "cell_type": "code",
   "execution_count": 103,
   "metadata": {
    "id": "RmXXJgm7wnMe"
   },
   "outputs": [],
   "source": [
    "# For the train data\n",
    "train['Arrival_Time'] = pd.to_datetime(train['Arrival_Time'])\n",
    "\n",
    "# Extract the numerical values from time objects\n",
    "train['Arrival_Time_Nu'] = train['Arrival_Time'].dt.hour * 60 + train['Arrival_Time'].dt.minute\n",
    "\n",
    "# Define time ranges for each category\n",
    "midnight_start = 0\n",
    "midnight_end = 359\n",
    "morning_start = 360\n",
    "morning_end = 719\n",
    "afternoon_start = 720\n",
    "afternoon_end = 1079\n",
    "evening_start = 1080\n",
    "evening_end = 1439\n",
    "\n",
    "\n",
    "train['Arrival_Period'] = pd.cut(\n",
    "    train['Arrival_Time_Nu'],\n",
    "    bins=[midnight_start, morning_start, afternoon_start, evening_start, evening_end],\n",
    "    labels=['Midnight', 'Morning', 'Afternoon', 'Evening'],\n",
    "    right=False\n",
    ")\n",
    "\n"
   ]
  },
  {
   "cell_type": "code",
   "execution_count": 104,
   "metadata": {},
   "outputs": [],
   "source": [
    "# For the test data\n",
    "test['Arrival_Time'] = pd.to_datetime(test['Arrival_Time'])\n",
    "\n",
    "# Extract the numerical values from time objects\n",
    "test['Arrival_Time_Nu'] = test['Arrival_Time'].dt.hour * 60 + test['Arrival_Time'].dt.minute\n",
    "\n",
    "# Define time ranges for each category\n",
    "midnight_start = 0\n",
    "midnight_end = 359\n",
    "morning_start = 360\n",
    "morning_end = 719\n",
    "afternoon_start = 720\n",
    "afternoon_end = 1079\n",
    "evening_start = 1080\n",
    "evening_end = 1439\n",
    "\n",
    "\n",
    "test['Arrival_Period'] = pd.cut(\n",
    "    test['Arrival_Time_Nu'],\n",
    "    bins=[midnight_start, morning_start, afternoon_start, evening_start, evening_end],\n",
    "    labels=['Midnight', 'Morning', 'Afternoon', 'Evening'],\n",
    "    right=False\n",
    ")\n",
    "\n"
   ]
  },
  {
   "cell_type": "code",
   "execution_count": 105,
   "metadata": {
    "colab": {
     "base_uri": "https://localhost:8080/"
    },
    "id": "uGMeNM2jqtQl",
    "outputId": "b55c016a-a508-4ef6-95e4-43eb647f819d"
   },
   "outputs": [
    {
     "data": {
      "text/plain": [
       "Airline                    object\n",
       "Date_of_Journey            object\n",
       "Source                     object\n",
       "Destination                object\n",
       "Route                      object\n",
       "Dep_Time           datetime64[ns]\n",
       "Arrival_Time       datetime64[ns]\n",
       "Duration                   object\n",
       "Total_Stops                object\n",
       "Additional_Info            object\n",
       "Price                       int64\n",
       "Date                       object\n",
       "Month                      object\n",
       "Year                       object\n",
       "Dep_Time_Nu                 int64\n",
       "Dep_Period               category\n",
       "Arrival_Time_Nu             int64\n",
       "Arrival_Period           category\n",
       "dtype: object"
      ]
     },
     "execution_count": 105,
     "metadata": {},
     "output_type": "execute_result"
    }
   ],
   "source": [
    "train.dtypes"
   ]
  },
  {
   "cell_type": "markdown",
   "metadata": {
    "id": "QYUpYBIOeW43"
   },
   "source": [
    "### Duration"
   ]
  },
  {
   "cell_type": "markdown",
   "metadata": {},
   "source": [
    "Here I have extracted the duration value and converted into minutes for ease of use."
   ]
  },
  {
   "cell_type": "code",
   "execution_count": 106,
   "metadata": {
    "id": "R2l9XroF2KXn"
   },
   "outputs": [],
   "source": [
    "train['Duration'] = train['Duration'].astype(str)\n",
    "train['Duration'] = train['Duration'].str.replace('h', '')\n",
    "train['Duration'] = train['Duration'].str.replace('m', '')\n",
    "\n",
    "# Split the 'Duration' values into hours and minutes\n",
    "duration_split = train['Duration'].str.split(' ', expand=True)\n",
    "hours = duration_split[0].astype(float)\n",
    "minutes = duration_split[1].astype(float).fillna(0)\n",
    "\n",
    "# Convert the 'Duration' values to minutes\n",
    "train['Duration'] = hours * 60 + minutes"
   ]
  },
  {
   "cell_type": "code",
   "execution_count": 107,
   "metadata": {},
   "outputs": [],
   "source": [
    "test['Duration'] = test['Duration'].astype(str)\n",
    "test['Duration'] = test['Duration'].str.replace('h', '')\n",
    "test['Duration'] = test['Duration'].str.replace('m', '')\n",
    "\n",
    "# Split the 'Duration' values into hours and minutes\n",
    "duration_split = test['Duration'].str.split(' ', expand=True)\n",
    "hours = duration_split[0].astype(float)\n",
    "minutes = duration_split[1].astype(float).fillna(0)\n",
    "\n",
    "# Convert the 'Duration' values to minutes\n",
    "test['Duration'] = hours * 60 + minutes"
   ]
  },
  {
   "cell_type": "markdown",
   "metadata": {
    "id": "MSl0lTGuhCqt"
   },
   "source": [
    "### Total Stops"
   ]
  },
  {
   "cell_type": "code",
   "execution_count": 108,
   "metadata": {
    "colab": {
     "base_uri": "https://localhost:8080/"
    },
    "id": "WWUG0E6_ju3I",
    "outputId": "daa83fcb-683f-482a-bad9-3ea7049b92e8"
   },
   "outputs": [
    {
     "data": {
      "text/plain": [
       "array(['non-stop', '2 stops', '1 stop', '3 stops', nan, '4 stops'],\n",
       "      dtype=object)"
      ]
     },
     "execution_count": 108,
     "metadata": {},
     "output_type": "execute_result"
    }
   ],
   "source": [
    "train['Total_Stops'].unique()"
   ]
  },
  {
   "cell_type": "code",
   "execution_count": 109,
   "metadata": {
    "id": "658PaGHrSyvL"
   },
   "outputs": [],
   "source": [
    "train['Total_Stops'].replace('non-stop','0',inplace=True)\n",
    "train['Total_Stops'] = train['Total_Stops'].str.split(' ')\n",
    "train['Total_Stops'] = train['Total_Stops'].str[0]"
   ]
  },
  {
   "cell_type": "code",
   "execution_count": 110,
   "metadata": {},
   "outputs": [],
   "source": [
    "test['Total_Stops'].replace('non-stop','0',inplace=True)\n",
    "test['Total_Stops'] = test['Total_Stops'].str.split(' ')\n",
    "test['Total_Stops'] = test['Total_Stops'].str[0]"
   ]
  },
  {
   "cell_type": "markdown",
   "metadata": {
    "id": "RqWnhS7WhNLG"
   },
   "source": [
    "### Additional Info"
   ]
  },
  {
   "cell_type": "code",
   "execution_count": 111,
   "metadata": {
    "colab": {
     "base_uri": "https://localhost:8080/"
    },
    "id": "8isXnEEUhM2X",
    "outputId": "893080bc-1f3f-45f1-fad2-5fcb0fb27e4c"
   },
   "outputs": [
    {
     "data": {
      "text/plain": [
       "array(['No info', 'In-flight meal not included',\n",
       "       'No check-in baggage included', '1 Short layover', 'No Info',\n",
       "       '1 Long layover', 'Change airports', 'Business class',\n",
       "       'Red-eye flight', '2 Long layover'], dtype=object)"
      ]
     },
     "execution_count": 111,
     "metadata": {},
     "output_type": "execute_result"
    }
   ],
   "source": [
    "train['Additional_Info'].unique()"
   ]
  },
  {
   "cell_type": "code",
   "execution_count": 112,
   "metadata": {
    "id": "lkbEx-6pSyrw"
   },
   "outputs": [],
   "source": [
    "train['Additional_Info'].replace('No Info', 'No info', inplace=True)"
   ]
  },
  {
   "cell_type": "code",
   "execution_count": 113,
   "metadata": {},
   "outputs": [],
   "source": [
    "test['Additional_Info'].replace('No Info', 'No info', inplace=True)"
   ]
  },
  {
   "cell_type": "code",
   "execution_count": 114,
   "metadata": {
    "colab": {
     "base_uri": "https://localhost:8080/"
    },
    "id": "hAcejcPfSynF",
    "outputId": "a7a85087-38d8-45f3-fe82-856eab49286c"
   },
   "outputs": [
    {
     "data": {
      "text/plain": [
       "Airline            0\n",
       "Date_of_Journey    0\n",
       "Source             0\n",
       "Destination        0\n",
       "Route              1\n",
       "Dep_Time           0\n",
       "Arrival_Time       0\n",
       "Duration           0\n",
       "Total_Stops        1\n",
       "Additional_Info    0\n",
       "Price              0\n",
       "Date               0\n",
       "Month              0\n",
       "Year               0\n",
       "Dep_Time_Nu        0\n",
       "Dep_Period         0\n",
       "Arrival_Time_Nu    0\n",
       "Arrival_Period     0\n",
       "dtype: int64"
      ]
     },
     "execution_count": 114,
     "metadata": {},
     "output_type": "execute_result"
    }
   ],
   "source": [
    "train.isna().sum()"
   ]
  },
  {
   "cell_type": "code",
   "execution_count": 115,
   "metadata": {},
   "outputs": [
    {
     "data": {
      "text/plain": [
       "Airline                    object\n",
       "Date_of_Journey            object\n",
       "Source                     object\n",
       "Destination                object\n",
       "Route                      object\n",
       "Dep_Time           datetime64[ns]\n",
       "Arrival_Time       datetime64[ns]\n",
       "Duration                  float64\n",
       "Total_Stops                object\n",
       "Additional_Info            object\n",
       "Price                       int64\n",
       "Date                       object\n",
       "Month                      object\n",
       "Year                       object\n",
       "Dep_Time_Nu                 int64\n",
       "Dep_Period               category\n",
       "Arrival_Time_Nu             int64\n",
       "Arrival_Period           category\n",
       "dtype: object"
      ]
     },
     "execution_count": 115,
     "metadata": {},
     "output_type": "execute_result"
    }
   ],
   "source": [
    "train.dtypes"
   ]
  },
  {
   "cell_type": "markdown",
   "metadata": {
    "id": "fMF0sxLljggJ"
   },
   "source": [
    "### Removing unwanted columns"
   ]
  },
  {
   "cell_type": "code",
   "execution_count": 116,
   "metadata": {
    "id": "D1aspJX8Syp1"
   },
   "outputs": [],
   "source": [
    "train = train.drop(['Date_of_Journey', 'Route', 'Dep_Time', 'Arrival_Time', 'Dep_Time_Nu', 'Arrival_Time_Nu'], axis=1)"
   ]
  },
  {
   "cell_type": "code",
   "execution_count": 117,
   "metadata": {},
   "outputs": [],
   "source": [
    "test = test.drop(['Date_of_Journey', 'Route', 'Dep_Time', 'Arrival_Time', 'Dep_Time_Nu', 'Arrival_Time_Nu'], axis=1)"
   ]
  },
  {
   "cell_type": "code",
   "execution_count": 118,
   "metadata": {},
   "outputs": [
    {
     "data": {
      "text/html": [
       "<div>\n",
       "<style scoped>\n",
       "    .dataframe tbody tr th:only-of-type {\n",
       "        vertical-align: middle;\n",
       "    }\n",
       "\n",
       "    .dataframe tbody tr th {\n",
       "        vertical-align: top;\n",
       "    }\n",
       "\n",
       "    .dataframe thead th {\n",
       "        text-align: right;\n",
       "    }\n",
       "</style>\n",
       "<table border=\"1\" class=\"dataframe\">\n",
       "  <thead>\n",
       "    <tr style=\"text-align: right;\">\n",
       "      <th></th>\n",
       "      <th>Airline</th>\n",
       "      <th>Source</th>\n",
       "      <th>Destination</th>\n",
       "      <th>Duration</th>\n",
       "      <th>Total_Stops</th>\n",
       "      <th>Additional_Info</th>\n",
       "      <th>Price</th>\n",
       "      <th>Date</th>\n",
       "      <th>Month</th>\n",
       "      <th>Year</th>\n",
       "      <th>Dep_Period</th>\n",
       "      <th>Arrival_Period</th>\n",
       "    </tr>\n",
       "  </thead>\n",
       "  <tbody>\n",
       "    <tr>\n",
       "      <th>524</th>\n",
       "      <td>Jet Airways</td>\n",
       "      <td>Banglore</td>\n",
       "      <td>New Delhi</td>\n",
       "      <td>435.0</td>\n",
       "      <td>1</td>\n",
       "      <td>In-flight meal not included</td>\n",
       "      <td>7832</td>\n",
       "      <td>21</td>\n",
       "      <td>03</td>\n",
       "      <td>2019</td>\n",
       "      <td>Morning</td>\n",
       "      <td>Afternoon</td>\n",
       "    </tr>\n",
       "    <tr>\n",
       "      <th>683</th>\n",
       "      <td>Jet Airways</td>\n",
       "      <td>Delhi</td>\n",
       "      <td>Cochin</td>\n",
       "      <td>830.0</td>\n",
       "      <td>2</td>\n",
       "      <td>No info</td>\n",
       "      <td>13376</td>\n",
       "      <td>1</td>\n",
       "      <td>06</td>\n",
       "      <td>2019</td>\n",
       "      <td>Afternoon</td>\n",
       "      <td>Midnight</td>\n",
       "    </tr>\n",
       "    <tr>\n",
       "      <th>1061</th>\n",
       "      <td>Air India</td>\n",
       "      <td>Delhi</td>\n",
       "      <td>Cochin</td>\n",
       "      <td>1275.0</td>\n",
       "      <td>2</td>\n",
       "      <td>No info</td>\n",
       "      <td>10231</td>\n",
       "      <td>21</td>\n",
       "      <td>05</td>\n",
       "      <td>2019</td>\n",
       "      <td>Evening</td>\n",
       "      <td>Evening</td>\n",
       "    </tr>\n",
       "    <tr>\n",
       "      <th>1242</th>\n",
       "      <td>IndiGo</td>\n",
       "      <td>Mumbai</td>\n",
       "      <td>Hyderabad</td>\n",
       "      <td>85.0</td>\n",
       "      <td>0</td>\n",
       "      <td>No info</td>\n",
       "      <td>2754</td>\n",
       "      <td>15</td>\n",
       "      <td>03</td>\n",
       "      <td>2019</td>\n",
       "      <td>Evening</td>\n",
       "      <td>Evening</td>\n",
       "    </tr>\n",
       "    <tr>\n",
       "      <th>1348</th>\n",
       "      <td>Air India</td>\n",
       "      <td>Delhi</td>\n",
       "      <td>Cochin</td>\n",
       "      <td>1560.0</td>\n",
       "      <td>2</td>\n",
       "      <td>No info</td>\n",
       "      <td>12392</td>\n",
       "      <td>18</td>\n",
       "      <td>05</td>\n",
       "      <td>2019</td>\n",
       "      <td>Afternoon</td>\n",
       "      <td>Evening</td>\n",
       "    </tr>\n",
       "  </tbody>\n",
       "</table>\n",
       "</div>"
      ],
      "text/plain": [
       "          Airline    Source Destination  Duration Total_Stops  \\\n",
       "524   Jet Airways  Banglore   New Delhi     435.0           1   \n",
       "683   Jet Airways     Delhi      Cochin     830.0           2   \n",
       "1061    Air India     Delhi      Cochin    1275.0           2   \n",
       "1242       IndiGo    Mumbai   Hyderabad      85.0           0   \n",
       "1348    Air India     Delhi      Cochin    1560.0           2   \n",
       "\n",
       "                  Additional_Info  Price Date Month  Year Dep_Period  \\\n",
       "524   In-flight meal not included   7832   21    03  2019    Morning   \n",
       "683                       No info  13376    1    06  2019  Afternoon   \n",
       "1061                      No info  10231   21    05  2019    Evening   \n",
       "1242                      No info   2754   15    03  2019    Evening   \n",
       "1348                      No info  12392   18    05  2019  Afternoon   \n",
       "\n",
       "     Arrival_Period  \n",
       "524       Afternoon  \n",
       "683        Midnight  \n",
       "1061        Evening  \n",
       "1242        Evening  \n",
       "1348        Evening  "
      ]
     },
     "execution_count": 118,
     "metadata": {},
     "output_type": "execute_result"
    }
   ],
   "source": [
    "duplicates = train[train.duplicated()]\n",
    "duplicates.head()"
   ]
  },
  {
   "cell_type": "code",
   "execution_count": 119,
   "metadata": {},
   "outputs": [
    {
     "data": {
      "text/html": [
       "<div>\n",
       "<style scoped>\n",
       "    .dataframe tbody tr th:only-of-type {\n",
       "        vertical-align: middle;\n",
       "    }\n",
       "\n",
       "    .dataframe tbody tr th {\n",
       "        vertical-align: top;\n",
       "    }\n",
       "\n",
       "    .dataframe thead th {\n",
       "        text-align: right;\n",
       "    }\n",
       "</style>\n",
       "<table border=\"1\" class=\"dataframe\">\n",
       "  <thead>\n",
       "    <tr style=\"text-align: right;\">\n",
       "      <th></th>\n",
       "      <th>Airline</th>\n",
       "      <th>Source</th>\n",
       "      <th>Destination</th>\n",
       "      <th>Duration</th>\n",
       "      <th>Total_Stops</th>\n",
       "      <th>Additional_Info</th>\n",
       "      <th>Date</th>\n",
       "      <th>Month</th>\n",
       "      <th>Year</th>\n",
       "      <th>Dep_Period</th>\n",
       "      <th>Arrival_Period</th>\n",
       "    </tr>\n",
       "  </thead>\n",
       "  <tbody>\n",
       "    <tr>\n",
       "      <th>294</th>\n",
       "      <td>Jet Airways</td>\n",
       "      <td>Delhi</td>\n",
       "      <td>Cochin</td>\n",
       "      <td>1375.0</td>\n",
       "      <td>2</td>\n",
       "      <td>No info</td>\n",
       "      <td>12</td>\n",
       "      <td>06</td>\n",
       "      <td>2019</td>\n",
       "      <td>Midnight</td>\n",
       "      <td>Midnight</td>\n",
       "    </tr>\n",
       "    <tr>\n",
       "      <th>588</th>\n",
       "      <td>IndiGo</td>\n",
       "      <td>Banglore</td>\n",
       "      <td>New Delhi</td>\n",
       "      <td>170.0</td>\n",
       "      <td>0</td>\n",
       "      <td>No info</td>\n",
       "      <td>3</td>\n",
       "      <td>03</td>\n",
       "      <td>2019</td>\n",
       "      <td>Evening</td>\n",
       "      <td>Midnight</td>\n",
       "    </tr>\n",
       "    <tr>\n",
       "      <th>730</th>\n",
       "      <td>Vistara</td>\n",
       "      <td>Banglore</td>\n",
       "      <td>Delhi</td>\n",
       "      <td>170.0</td>\n",
       "      <td>0</td>\n",
       "      <td>No info</td>\n",
       "      <td>18</td>\n",
       "      <td>05</td>\n",
       "      <td>2019</td>\n",
       "      <td>Morning</td>\n",
       "      <td>Afternoon</td>\n",
       "    </tr>\n",
       "    <tr>\n",
       "      <th>794</th>\n",
       "      <td>Jet Airways</td>\n",
       "      <td>Delhi</td>\n",
       "      <td>Cochin</td>\n",
       "      <td>1375.0</td>\n",
       "      <td>2</td>\n",
       "      <td>In-flight meal not included</td>\n",
       "      <td>12</td>\n",
       "      <td>06</td>\n",
       "      <td>2019</td>\n",
       "      <td>Midnight</td>\n",
       "      <td>Midnight</td>\n",
       "    </tr>\n",
       "    <tr>\n",
       "      <th>854</th>\n",
       "      <td>SpiceJet</td>\n",
       "      <td>Kolkata</td>\n",
       "      <td>Banglore</td>\n",
       "      <td>435.0</td>\n",
       "      <td>1</td>\n",
       "      <td>No info</td>\n",
       "      <td>1</td>\n",
       "      <td>04</td>\n",
       "      <td>2019</td>\n",
       "      <td>Morning</td>\n",
       "      <td>Evening</td>\n",
       "    </tr>\n",
       "  </tbody>\n",
       "</table>\n",
       "</div>"
      ],
      "text/plain": [
       "         Airline    Source Destination  Duration Total_Stops  \\\n",
       "294  Jet Airways     Delhi      Cochin    1375.0           2   \n",
       "588       IndiGo  Banglore   New Delhi     170.0           0   \n",
       "730      Vistara  Banglore       Delhi     170.0           0   \n",
       "794  Jet Airways     Delhi      Cochin    1375.0           2   \n",
       "854     SpiceJet   Kolkata    Banglore     435.0           1   \n",
       "\n",
       "                 Additional_Info Date Month  Year Dep_Period Arrival_Period  \n",
       "294                      No info   12    06  2019   Midnight       Midnight  \n",
       "588                      No info    3    03  2019    Evening       Midnight  \n",
       "730                      No info   18    05  2019    Morning      Afternoon  \n",
       "794  In-flight meal not included   12    06  2019   Midnight       Midnight  \n",
       "854                      No info    1    04  2019    Morning        Evening  "
      ]
     },
     "execution_count": 119,
     "metadata": {},
     "output_type": "execute_result"
    }
   ],
   "source": [
    "duplicates = test[test.duplicated()]\n",
    "duplicates.head()"
   ]
  },
  {
   "cell_type": "code",
   "execution_count": 120,
   "metadata": {},
   "outputs": [],
   "source": [
    "train = train.drop([524, 683, 1061, 1242, 1348])"
   ]
  },
  {
   "cell_type": "code",
   "execution_count": 121,
   "metadata": {
    "colab": {
     "base_uri": "https://localhost:8080/",
     "height": 423
    },
    "id": "VDGQSbjisB5U",
    "outputId": "8eba40bb-47bc-4378-9d38-e76a0d353463"
   },
   "outputs": [
    {
     "data": {
      "text/html": [
       "<div>\n",
       "<style scoped>\n",
       "    .dataframe tbody tr th:only-of-type {\n",
       "        vertical-align: middle;\n",
       "    }\n",
       "\n",
       "    .dataframe tbody tr th {\n",
       "        vertical-align: top;\n",
       "    }\n",
       "\n",
       "    .dataframe thead th {\n",
       "        text-align: right;\n",
       "    }\n",
       "</style>\n",
       "<table border=\"1\" class=\"dataframe\">\n",
       "  <thead>\n",
       "    <tr style=\"text-align: right;\">\n",
       "      <th></th>\n",
       "      <th>Airline</th>\n",
       "      <th>Source</th>\n",
       "      <th>Destination</th>\n",
       "      <th>Duration</th>\n",
       "      <th>Total_Stops</th>\n",
       "      <th>Additional_Info</th>\n",
       "      <th>Price</th>\n",
       "      <th>Date</th>\n",
       "      <th>Month</th>\n",
       "      <th>Year</th>\n",
       "      <th>Dep_Period</th>\n",
       "      <th>Arrival_Period</th>\n",
       "    </tr>\n",
       "  </thead>\n",
       "  <tbody>\n",
       "    <tr>\n",
       "      <th>0</th>\n",
       "      <td>IndiGo</td>\n",
       "      <td>Banglore</td>\n",
       "      <td>New Delhi</td>\n",
       "      <td>170.0</td>\n",
       "      <td>0</td>\n",
       "      <td>No info</td>\n",
       "      <td>3897</td>\n",
       "      <td>24</td>\n",
       "      <td>03</td>\n",
       "      <td>2019</td>\n",
       "      <td>Evening</td>\n",
       "      <td>Midnight</td>\n",
       "    </tr>\n",
       "    <tr>\n",
       "      <th>1</th>\n",
       "      <td>Air India</td>\n",
       "      <td>Kolkata</td>\n",
       "      <td>Banglore</td>\n",
       "      <td>445.0</td>\n",
       "      <td>2</td>\n",
       "      <td>No info</td>\n",
       "      <td>7662</td>\n",
       "      <td>1</td>\n",
       "      <td>05</td>\n",
       "      <td>2019</td>\n",
       "      <td>Midnight</td>\n",
       "      <td>Afternoon</td>\n",
       "    </tr>\n",
       "    <tr>\n",
       "      <th>2</th>\n",
       "      <td>Jet Airways</td>\n",
       "      <td>Delhi</td>\n",
       "      <td>Cochin</td>\n",
       "      <td>1140.0</td>\n",
       "      <td>2</td>\n",
       "      <td>No info</td>\n",
       "      <td>13882</td>\n",
       "      <td>9</td>\n",
       "      <td>06</td>\n",
       "      <td>2019</td>\n",
       "      <td>Morning</td>\n",
       "      <td>Midnight</td>\n",
       "    </tr>\n",
       "    <tr>\n",
       "      <th>3</th>\n",
       "      <td>IndiGo</td>\n",
       "      <td>Kolkata</td>\n",
       "      <td>Banglore</td>\n",
       "      <td>325.0</td>\n",
       "      <td>1</td>\n",
       "      <td>No info</td>\n",
       "      <td>6218</td>\n",
       "      <td>12</td>\n",
       "      <td>05</td>\n",
       "      <td>2019</td>\n",
       "      <td>Evening</td>\n",
       "      <td>Evening</td>\n",
       "    </tr>\n",
       "    <tr>\n",
       "      <th>4</th>\n",
       "      <td>IndiGo</td>\n",
       "      <td>Banglore</td>\n",
       "      <td>New Delhi</td>\n",
       "      <td>285.0</td>\n",
       "      <td>1</td>\n",
       "      <td>No info</td>\n",
       "      <td>13302</td>\n",
       "      <td>1</td>\n",
       "      <td>03</td>\n",
       "      <td>2019</td>\n",
       "      <td>Afternoon</td>\n",
       "      <td>Evening</td>\n",
       "    </tr>\n",
       "    <tr>\n",
       "      <th>...</th>\n",
       "      <td>...</td>\n",
       "      <td>...</td>\n",
       "      <td>...</td>\n",
       "      <td>...</td>\n",
       "      <td>...</td>\n",
       "      <td>...</td>\n",
       "      <td>...</td>\n",
       "      <td>...</td>\n",
       "      <td>...</td>\n",
       "      <td>...</td>\n",
       "      <td>...</td>\n",
       "      <td>...</td>\n",
       "    </tr>\n",
       "    <tr>\n",
       "      <th>10678</th>\n",
       "      <td>Air Asia</td>\n",
       "      <td>Kolkata</td>\n",
       "      <td>Banglore</td>\n",
       "      <td>150.0</td>\n",
       "      <td>0</td>\n",
       "      <td>No info</td>\n",
       "      <td>4107</td>\n",
       "      <td>9</td>\n",
       "      <td>04</td>\n",
       "      <td>2019</td>\n",
       "      <td>Evening</td>\n",
       "      <td>Evening</td>\n",
       "    </tr>\n",
       "    <tr>\n",
       "      <th>10679</th>\n",
       "      <td>Air India</td>\n",
       "      <td>Kolkata</td>\n",
       "      <td>Banglore</td>\n",
       "      <td>155.0</td>\n",
       "      <td>0</td>\n",
       "      <td>No info</td>\n",
       "      <td>4145</td>\n",
       "      <td>27</td>\n",
       "      <td>04</td>\n",
       "      <td>2019</td>\n",
       "      <td>Evening</td>\n",
       "      <td>Evening</td>\n",
       "    </tr>\n",
       "    <tr>\n",
       "      <th>10680</th>\n",
       "      <td>Jet Airways</td>\n",
       "      <td>Banglore</td>\n",
       "      <td>Delhi</td>\n",
       "      <td>180.0</td>\n",
       "      <td>0</td>\n",
       "      <td>No info</td>\n",
       "      <td>7229</td>\n",
       "      <td>27</td>\n",
       "      <td>04</td>\n",
       "      <td>2019</td>\n",
       "      <td>Morning</td>\n",
       "      <td>Morning</td>\n",
       "    </tr>\n",
       "    <tr>\n",
       "      <th>10681</th>\n",
       "      <td>Vistara</td>\n",
       "      <td>Banglore</td>\n",
       "      <td>New Delhi</td>\n",
       "      <td>160.0</td>\n",
       "      <td>0</td>\n",
       "      <td>No info</td>\n",
       "      <td>12648</td>\n",
       "      <td>1</td>\n",
       "      <td>03</td>\n",
       "      <td>2019</td>\n",
       "      <td>Morning</td>\n",
       "      <td>Afternoon</td>\n",
       "    </tr>\n",
       "    <tr>\n",
       "      <th>10682</th>\n",
       "      <td>Air India</td>\n",
       "      <td>Delhi</td>\n",
       "      <td>Cochin</td>\n",
       "      <td>500.0</td>\n",
       "      <td>2</td>\n",
       "      <td>No info</td>\n",
       "      <td>11753</td>\n",
       "      <td>9</td>\n",
       "      <td>05</td>\n",
       "      <td>2019</td>\n",
       "      <td>Morning</td>\n",
       "      <td>Evening</td>\n",
       "    </tr>\n",
       "  </tbody>\n",
       "</table>\n",
       "<p>10678 rows × 12 columns</p>\n",
       "</div>"
      ],
      "text/plain": [
       "           Airline    Source Destination  Duration Total_Stops  \\\n",
       "0           IndiGo  Banglore   New Delhi     170.0           0   \n",
       "1        Air India   Kolkata    Banglore     445.0           2   \n",
       "2      Jet Airways     Delhi      Cochin    1140.0           2   \n",
       "3           IndiGo   Kolkata    Banglore     325.0           1   \n",
       "4           IndiGo  Banglore   New Delhi     285.0           1   \n",
       "...            ...       ...         ...       ...         ...   \n",
       "10678     Air Asia   Kolkata    Banglore     150.0           0   \n",
       "10679    Air India   Kolkata    Banglore     155.0           0   \n",
       "10680  Jet Airways  Banglore       Delhi     180.0           0   \n",
       "10681      Vistara  Banglore   New Delhi     160.0           0   \n",
       "10682    Air India     Delhi      Cochin     500.0           2   \n",
       "\n",
       "      Additional_Info  Price Date Month  Year Dep_Period Arrival_Period  \n",
       "0             No info   3897   24    03  2019    Evening       Midnight  \n",
       "1             No info   7662    1    05  2019   Midnight      Afternoon  \n",
       "2             No info  13882    9    06  2019    Morning       Midnight  \n",
       "3             No info   6218   12    05  2019    Evening        Evening  \n",
       "4             No info  13302    1    03  2019  Afternoon        Evening  \n",
       "...               ...    ...  ...   ...   ...        ...            ...  \n",
       "10678         No info   4107    9    04  2019    Evening        Evening  \n",
       "10679         No info   4145   27    04  2019    Evening        Evening  \n",
       "10680         No info   7229   27    04  2019    Morning        Morning  \n",
       "10681         No info  12648    1    03  2019    Morning      Afternoon  \n",
       "10682         No info  11753    9    05  2019    Morning        Evening  \n",
       "\n",
       "[10678 rows x 12 columns]"
      ]
     },
     "execution_count": 121,
     "metadata": {},
     "output_type": "execute_result"
    }
   ],
   "source": [
    "train"
   ]
  },
  {
   "cell_type": "code",
   "execution_count": 122,
   "metadata": {},
   "outputs": [
    {
     "data": {
      "text/html": [
       "<div>\n",
       "<style scoped>\n",
       "    .dataframe tbody tr th:only-of-type {\n",
       "        vertical-align: middle;\n",
       "    }\n",
       "\n",
       "    .dataframe tbody tr th {\n",
       "        vertical-align: top;\n",
       "    }\n",
       "\n",
       "    .dataframe thead th {\n",
       "        text-align: right;\n",
       "    }\n",
       "</style>\n",
       "<table border=\"1\" class=\"dataframe\">\n",
       "  <thead>\n",
       "    <tr style=\"text-align: right;\">\n",
       "      <th></th>\n",
       "      <th>Airline</th>\n",
       "      <th>Source</th>\n",
       "      <th>Destination</th>\n",
       "      <th>Duration</th>\n",
       "      <th>Total_Stops</th>\n",
       "      <th>Additional_Info</th>\n",
       "      <th>Date</th>\n",
       "      <th>Month</th>\n",
       "      <th>Year</th>\n",
       "      <th>Dep_Period</th>\n",
       "      <th>Arrival_Period</th>\n",
       "    </tr>\n",
       "  </thead>\n",
       "  <tbody>\n",
       "    <tr>\n",
       "      <th>0</th>\n",
       "      <td>Jet Airways</td>\n",
       "      <td>Delhi</td>\n",
       "      <td>Cochin</td>\n",
       "      <td>655.0</td>\n",
       "      <td>1</td>\n",
       "      <td>No info</td>\n",
       "      <td>6</td>\n",
       "      <td>06</td>\n",
       "      <td>2019</td>\n",
       "      <td>Afternoon</td>\n",
       "      <td>Midnight</td>\n",
       "    </tr>\n",
       "    <tr>\n",
       "      <th>1</th>\n",
       "      <td>IndiGo</td>\n",
       "      <td>Kolkata</td>\n",
       "      <td>Banglore</td>\n",
       "      <td>240.0</td>\n",
       "      <td>1</td>\n",
       "      <td>No info</td>\n",
       "      <td>12</td>\n",
       "      <td>05</td>\n",
       "      <td>2019</td>\n",
       "      <td>Morning</td>\n",
       "      <td>Morning</td>\n",
       "    </tr>\n",
       "    <tr>\n",
       "      <th>2</th>\n",
       "      <td>Jet Airways</td>\n",
       "      <td>Delhi</td>\n",
       "      <td>Cochin</td>\n",
       "      <td>1425.0</td>\n",
       "      <td>1</td>\n",
       "      <td>In-flight meal not included</td>\n",
       "      <td>21</td>\n",
       "      <td>05</td>\n",
       "      <td>2019</td>\n",
       "      <td>Evening</td>\n",
       "      <td>Evening</td>\n",
       "    </tr>\n",
       "    <tr>\n",
       "      <th>3</th>\n",
       "      <td>Multiple carriers</td>\n",
       "      <td>Delhi</td>\n",
       "      <td>Cochin</td>\n",
       "      <td>780.0</td>\n",
       "      <td>1</td>\n",
       "      <td>No info</td>\n",
       "      <td>21</td>\n",
       "      <td>05</td>\n",
       "      <td>2019</td>\n",
       "      <td>Morning</td>\n",
       "      <td>Evening</td>\n",
       "    </tr>\n",
       "    <tr>\n",
       "      <th>4</th>\n",
       "      <td>Air Asia</td>\n",
       "      <td>Banglore</td>\n",
       "      <td>Delhi</td>\n",
       "      <td>170.0</td>\n",
       "      <td>0</td>\n",
       "      <td>No info</td>\n",
       "      <td>24</td>\n",
       "      <td>06</td>\n",
       "      <td>2019</td>\n",
       "      <td>Evening</td>\n",
       "      <td>Midnight</td>\n",
       "    </tr>\n",
       "    <tr>\n",
       "      <th>...</th>\n",
       "      <td>...</td>\n",
       "      <td>...</td>\n",
       "      <td>...</td>\n",
       "      <td>...</td>\n",
       "      <td>...</td>\n",
       "      <td>...</td>\n",
       "      <td>...</td>\n",
       "      <td>...</td>\n",
       "      <td>...</td>\n",
       "      <td>...</td>\n",
       "      <td>...</td>\n",
       "    </tr>\n",
       "    <tr>\n",
       "      <th>2666</th>\n",
       "      <td>Air India</td>\n",
       "      <td>Kolkata</td>\n",
       "      <td>Banglore</td>\n",
       "      <td>1435.0</td>\n",
       "      <td>1</td>\n",
       "      <td>No info</td>\n",
       "      <td>6</td>\n",
       "      <td>06</td>\n",
       "      <td>2019</td>\n",
       "      <td>Evening</td>\n",
       "      <td>Evening</td>\n",
       "    </tr>\n",
       "    <tr>\n",
       "      <th>2667</th>\n",
       "      <td>IndiGo</td>\n",
       "      <td>Kolkata</td>\n",
       "      <td>Banglore</td>\n",
       "      <td>155.0</td>\n",
       "      <td>0</td>\n",
       "      <td>No info</td>\n",
       "      <td>27</td>\n",
       "      <td>03</td>\n",
       "      <td>2019</td>\n",
       "      <td>Afternoon</td>\n",
       "      <td>Afternoon</td>\n",
       "    </tr>\n",
       "    <tr>\n",
       "      <th>2668</th>\n",
       "      <td>Jet Airways</td>\n",
       "      <td>Delhi</td>\n",
       "      <td>Cochin</td>\n",
       "      <td>395.0</td>\n",
       "      <td>1</td>\n",
       "      <td>No info</td>\n",
       "      <td>6</td>\n",
       "      <td>03</td>\n",
       "      <td>2019</td>\n",
       "      <td>Evening</td>\n",
       "      <td>Midnight</td>\n",
       "    </tr>\n",
       "    <tr>\n",
       "      <th>2669</th>\n",
       "      <td>Air India</td>\n",
       "      <td>Delhi</td>\n",
       "      <td>Cochin</td>\n",
       "      <td>915.0</td>\n",
       "      <td>1</td>\n",
       "      <td>No info</td>\n",
       "      <td>6</td>\n",
       "      <td>03</td>\n",
       "      <td>2019</td>\n",
       "      <td>Midnight</td>\n",
       "      <td>Evening</td>\n",
       "    </tr>\n",
       "    <tr>\n",
       "      <th>2670</th>\n",
       "      <td>Multiple carriers</td>\n",
       "      <td>Delhi</td>\n",
       "      <td>Cochin</td>\n",
       "      <td>860.0</td>\n",
       "      <td>1</td>\n",
       "      <td>No info</td>\n",
       "      <td>15</td>\n",
       "      <td>06</td>\n",
       "      <td>2019</td>\n",
       "      <td>Midnight</td>\n",
       "      <td>Evening</td>\n",
       "    </tr>\n",
       "  </tbody>\n",
       "</table>\n",
       "<p>2671 rows × 11 columns</p>\n",
       "</div>"
      ],
      "text/plain": [
       "                Airline    Source Destination  Duration Total_Stops  \\\n",
       "0           Jet Airways     Delhi      Cochin     655.0           1   \n",
       "1                IndiGo   Kolkata    Banglore     240.0           1   \n",
       "2           Jet Airways     Delhi      Cochin    1425.0           1   \n",
       "3     Multiple carriers     Delhi      Cochin     780.0           1   \n",
       "4              Air Asia  Banglore       Delhi     170.0           0   \n",
       "...                 ...       ...         ...       ...         ...   \n",
       "2666          Air India   Kolkata    Banglore    1435.0           1   \n",
       "2667             IndiGo   Kolkata    Banglore     155.0           0   \n",
       "2668        Jet Airways     Delhi      Cochin     395.0           1   \n",
       "2669          Air India     Delhi      Cochin     915.0           1   \n",
       "2670  Multiple carriers     Delhi      Cochin     860.0           1   \n",
       "\n",
       "                  Additional_Info Date Month  Year Dep_Period Arrival_Period  \n",
       "0                         No info    6    06  2019  Afternoon       Midnight  \n",
       "1                         No info   12    05  2019    Morning        Morning  \n",
       "2     In-flight meal not included   21    05  2019    Evening        Evening  \n",
       "3                         No info   21    05  2019    Morning        Evening  \n",
       "4                         No info   24    06  2019    Evening       Midnight  \n",
       "...                           ...  ...   ...   ...        ...            ...  \n",
       "2666                      No info    6    06  2019    Evening        Evening  \n",
       "2667                      No info   27    03  2019  Afternoon      Afternoon  \n",
       "2668                      No info    6    03  2019    Evening       Midnight  \n",
       "2669                      No info    6    03  2019   Midnight        Evening  \n",
       "2670                      No info   15    06  2019   Midnight        Evening  \n",
       "\n",
       "[2671 rows x 11 columns]"
      ]
     },
     "execution_count": 122,
     "metadata": {},
     "output_type": "execute_result"
    }
   ],
   "source": [
    "test"
   ]
  },
  {
   "cell_type": "code",
   "execution_count": 123,
   "metadata": {
    "colab": {
     "base_uri": "https://localhost:8080/"
    },
    "id": "rnT_6mvkcb76",
    "outputId": "b2c10ce7-ab83-4e99-e541-560828a62044"
   },
   "outputs": [
    {
     "data": {
      "text/plain": [
       "Airline              object\n",
       "Source               object\n",
       "Destination          object\n",
       "Duration            float64\n",
       "Total_Stops          object\n",
       "Additional_Info      object\n",
       "Price                 int64\n",
       "Date                 object\n",
       "Month                object\n",
       "Year                 object\n",
       "Dep_Period         category\n",
       "Arrival_Period     category\n",
       "dtype: object"
      ]
     },
     "execution_count": 123,
     "metadata": {},
     "output_type": "execute_result"
    }
   ],
   "source": [
    "train.dtypes"
   ]
  },
  {
   "cell_type": "markdown",
   "metadata": {},
   "source": [
    "### Removing missing values"
   ]
  },
  {
   "cell_type": "code",
   "execution_count": 124,
   "metadata": {},
   "outputs": [
    {
     "data": {
      "text/plain": [
       "Airline            0\n",
       "Source             0\n",
       "Destination        0\n",
       "Duration           0\n",
       "Total_Stops        1\n",
       "Additional_Info    0\n",
       "Price              0\n",
       "Date               0\n",
       "Month              0\n",
       "Year               0\n",
       "Dep_Period         0\n",
       "Arrival_Period     0\n",
       "dtype: int64"
      ]
     },
     "execution_count": 124,
     "metadata": {},
     "output_type": "execute_result"
    }
   ],
   "source": [
    "train.isna().sum()"
   ]
  },
  {
   "cell_type": "code",
   "execution_count": 125,
   "metadata": {},
   "outputs": [],
   "source": [
    "train['Total_Stops'].fillna(0, inplace=True)"
   ]
  },
  {
   "cell_type": "code",
   "execution_count": 126,
   "metadata": {},
   "outputs": [],
   "source": [
    "test['Total_Stops'].fillna(0, inplace=True)"
   ]
  },
  {
   "cell_type": "code",
   "execution_count": 127,
   "metadata": {
    "id": "lQi1tqDQscy9"
   },
   "outputs": [],
   "source": [
    "train['Total_Stops'] = train['Total_Stops'].astype('int64')"
   ]
  },
  {
   "cell_type": "code",
   "execution_count": 128,
   "metadata": {},
   "outputs": [],
   "source": [
    "test['Total_Stops'] = test['Total_Stops'].astype('int64')"
   ]
  },
  {
   "cell_type": "code",
   "execution_count": 129,
   "metadata": {
    "id": "MvXqXjr99za7"
   },
   "outputs": [],
   "source": [
    "cols = ['Airline', 'Source', 'Destination', 'Total_Stops', 'Additional_Info', 'Dep_Period', 'Arrival_Period', 'Month']\n",
    "#num = ['Month', 'Year', 'Dep_Time_Hour', 'Arrival_Date', 'Arrival_hr', 'Duration_hrs'] # excluding total stops and date"
   ]
  },
  {
   "cell_type": "code",
   "execution_count": 130,
   "metadata": {
    "colab": {
     "base_uri": "https://localhost:8080/",
     "height": 1000
    },
    "id": "k9Mm7c_fExYN",
    "outputId": "cca6341a-1be2-4934-8b16-74ea782f16ba",
    "scrolled": true
   },
   "outputs": [
    {
     "data": {
      "image/png": "[encoded data removed]",
      "text/plain": [
       "<Figure size 1500x500 with 1 Axes>"
      ]
     },
     "metadata": {},
     "output_type": "display_data"
    },
    {
     "data": {
      "image/png": "[encoded data removed]",
      "text/plain": [
       "<Figure size 1500x500 with 1 Axes>"
      ]
     },
     "metadata": {},
     "output_type": "display_data"
    },
    {
     "data": {
      "image/png": "[encoded data removed]",
      "text/plain": [
       "<Figure size 1500x500 with 1 Axes>"
      ]
     },
     "metadata": {},
     "output_type": "display_data"
    },
    {
     "data": {
      "image/png": "[encoded data removed]",
      "text/plain": [
       "<Figure size 1500x500 with 1 Axes>"
      ]
     },
     "metadata": {},
     "output_type": "display_data"
    },
    {
     "data": {
      "image/png": "[encoded data removed]",
      "text/plain": [
       "<Figure size 1500x500 with 1 Axes>"
      ]
     },
     "metadata": {},
     "output_type": "display_data"
    },
    {
     "data": {
      "image/png": "[encoded data removed]",
      "text/plain": [
       "<Figure size 1500x500 with 1 Axes>"
      ]
     },
     "metadata": {},
     "output_type": "display_data"
    },
    {
     "data": {
      "image/png": "[encoded data removed]",
      "text/plain": [
       "<Figure size 1500x500 with 1 Axes>"
      ]
     },
     "metadata": {},
     "output_type": "display_data"
    },
    {
     "data": {
      "image/png": "[encoded data removed]",
      "text/plain": [
       "<Figure size 1500x500 with 1 Axes>"
      ]
     },
     "metadata": {},
     "output_type": "display_data"
    }
   ],
   "source": [
    "for column in cols:\n",
    "    plt.figure(figsize=(15, 5))\n",
    "    sns.countplot(x=column, data=train)\n",
    "    plt.xlabel(column, fontsize=12)\n",
    "    plt.ylabel('Count', fontsize=12)\n",
    "    plt.title(f'Countplot of {column}', fontsize=14)\n",
    "    plt.tight_layout(pad = 3.0)\n",
    "    plt.xticks(rotation = 90)\n",
    "    plt.show()"
   ]
  },
  {
   "cell_type": "code",
   "execution_count": 131,
   "metadata": {},
   "outputs": [
    {
     "data": {
      "text/plain": [
       "<seaborn.axisgrid.PairGrid at 0x134a5d56dc0>"
      ]
     },
     "execution_count": 131,
     "metadata": {},
     "output_type": "execute_result"
    },
    {
     "data": {
      "image/png": "[encoded data removed]",
      "text/plain": [
       "<Figure size 750x750 with 12 Axes>"
      ]
     },
     "metadata": {},
     "output_type": "display_data"
    }
   ],
   "source": [
    "sns.pairplot(train)"
   ]
  },
  {
   "cell_type": "code",
   "execution_count": 132,
   "metadata": {},
   "outputs": [
    {
     "data": {
      "text/plain": [
       "Airline              object\n",
       "Source               object\n",
       "Destination          object\n",
       "Duration            float64\n",
       "Total_Stops           int64\n",
       "Additional_Info      object\n",
       "Price                 int64\n",
       "Date                 object\n",
       "Month                object\n",
       "Year                 object\n",
       "Dep_Period         category\n",
       "Arrival_Period     category\n",
       "dtype: object"
      ]
     },
     "execution_count": 132,
     "metadata": {},
     "output_type": "execute_result"
    }
   ],
   "source": [
    "train.dtypes"
   ]
  },
  {
   "cell_type": "code",
   "execution_count": 133,
   "metadata": {
    "colab": {
     "base_uri": "https://localhost:8080/",
     "height": 423
    },
    "id": "3G1JyxXotCdO",
    "outputId": "9c0154c5-411c-403f-e0e0-8bc30b9f81f7"
   },
   "outputs": [
    {
     "data": {
      "text/html": [
       "<div>\n",
       "<style scoped>\n",
       "    .dataframe tbody tr th:only-of-type {\n",
       "        vertical-align: middle;\n",
       "    }\n",
       "\n",
       "    .dataframe tbody tr th {\n",
       "        vertical-align: top;\n",
       "    }\n",
       "\n",
       "    .dataframe thead th {\n",
       "        text-align: right;\n",
       "    }\n",
       "</style>\n",
       "<table border=\"1\" class=\"dataframe\">\n",
       "  <thead>\n",
       "    <tr style=\"text-align: right;\">\n",
       "      <th></th>\n",
       "      <th>Airline</th>\n",
       "      <th>Source</th>\n",
       "      <th>Destination</th>\n",
       "      <th>Duration</th>\n",
       "      <th>Total_Stops</th>\n",
       "      <th>Additional_Info</th>\n",
       "      <th>Price</th>\n",
       "      <th>Date</th>\n",
       "      <th>Month</th>\n",
       "      <th>Year</th>\n",
       "      <th>Dep_Period</th>\n",
       "      <th>Arrival_Period</th>\n",
       "    </tr>\n",
       "  </thead>\n",
       "  <tbody>\n",
       "    <tr>\n",
       "      <th>0</th>\n",
       "      <td>IndiGo</td>\n",
       "      <td>Banglore</td>\n",
       "      <td>New Delhi</td>\n",
       "      <td>170.0</td>\n",
       "      <td>0</td>\n",
       "      <td>No info</td>\n",
       "      <td>3897</td>\n",
       "      <td>24</td>\n",
       "      <td>03</td>\n",
       "      <td>2019</td>\n",
       "      <td>Evening</td>\n",
       "      <td>Midnight</td>\n",
       "    </tr>\n",
       "    <tr>\n",
       "      <th>1</th>\n",
       "      <td>Air India</td>\n",
       "      <td>Kolkata</td>\n",
       "      <td>Banglore</td>\n",
       "      <td>445.0</td>\n",
       "      <td>2</td>\n",
       "      <td>No info</td>\n",
       "      <td>7662</td>\n",
       "      <td>1</td>\n",
       "      <td>05</td>\n",
       "      <td>2019</td>\n",
       "      <td>Midnight</td>\n",
       "      <td>Afternoon</td>\n",
       "    </tr>\n",
       "    <tr>\n",
       "      <th>2</th>\n",
       "      <td>Jet Airways</td>\n",
       "      <td>Delhi</td>\n",
       "      <td>Cochin</td>\n",
       "      <td>1140.0</td>\n",
       "      <td>2</td>\n",
       "      <td>No info</td>\n",
       "      <td>13882</td>\n",
       "      <td>9</td>\n",
       "      <td>06</td>\n",
       "      <td>2019</td>\n",
       "      <td>Morning</td>\n",
       "      <td>Midnight</td>\n",
       "    </tr>\n",
       "    <tr>\n",
       "      <th>3</th>\n",
       "      <td>IndiGo</td>\n",
       "      <td>Kolkata</td>\n",
       "      <td>Banglore</td>\n",
       "      <td>325.0</td>\n",
       "      <td>1</td>\n",
       "      <td>No info</td>\n",
       "      <td>6218</td>\n",
       "      <td>12</td>\n",
       "      <td>05</td>\n",
       "      <td>2019</td>\n",
       "      <td>Evening</td>\n",
       "      <td>Evening</td>\n",
       "    </tr>\n",
       "    <tr>\n",
       "      <th>4</th>\n",
       "      <td>IndiGo</td>\n",
       "      <td>Banglore</td>\n",
       "      <td>New Delhi</td>\n",
       "      <td>285.0</td>\n",
       "      <td>1</td>\n",
       "      <td>No info</td>\n",
       "      <td>13302</td>\n",
       "      <td>1</td>\n",
       "      <td>03</td>\n",
       "      <td>2019</td>\n",
       "      <td>Afternoon</td>\n",
       "      <td>Evening</td>\n",
       "    </tr>\n",
       "    <tr>\n",
       "      <th>...</th>\n",
       "      <td>...</td>\n",
       "      <td>...</td>\n",
       "      <td>...</td>\n",
       "      <td>...</td>\n",
       "      <td>...</td>\n",
       "      <td>...</td>\n",
       "      <td>...</td>\n",
       "      <td>...</td>\n",
       "      <td>...</td>\n",
       "      <td>...</td>\n",
       "      <td>...</td>\n",
       "      <td>...</td>\n",
       "    </tr>\n",
       "    <tr>\n",
       "      <th>10678</th>\n",
       "      <td>Air Asia</td>\n",
       "      <td>Kolkata</td>\n",
       "      <td>Banglore</td>\n",
       "      <td>150.0</td>\n",
       "      <td>0</td>\n",
       "      <td>No info</td>\n",
       "      <td>4107</td>\n",
       "      <td>9</td>\n",
       "      <td>04</td>\n",
       "      <td>2019</td>\n",
       "      <td>Evening</td>\n",
       "      <td>Evening</td>\n",
       "    </tr>\n",
       "    <tr>\n",
       "      <th>10679</th>\n",
       "      <td>Air India</td>\n",
       "      <td>Kolkata</td>\n",
       "      <td>Banglore</td>\n",
       "      <td>155.0</td>\n",
       "      <td>0</td>\n",
       "      <td>No info</td>\n",
       "      <td>4145</td>\n",
       "      <td>27</td>\n",
       "      <td>04</td>\n",
       "      <td>2019</td>\n",
       "      <td>Evening</td>\n",
       "      <td>Evening</td>\n",
       "    </tr>\n",
       "    <tr>\n",
       "      <th>10680</th>\n",
       "      <td>Jet Airways</td>\n",
       "      <td>Banglore</td>\n",
       "      <td>Delhi</td>\n",
       "      <td>180.0</td>\n",
       "      <td>0</td>\n",
       "      <td>No info</td>\n",
       "      <td>7229</td>\n",
       "      <td>27</td>\n",
       "      <td>04</td>\n",
       "      <td>2019</td>\n",
       "      <td>Morning</td>\n",
       "      <td>Morning</td>\n",
       "    </tr>\n",
       "    <tr>\n",
       "      <th>10681</th>\n",
       "      <td>Vistara</td>\n",
       "      <td>Banglore</td>\n",
       "      <td>New Delhi</td>\n",
       "      <td>160.0</td>\n",
       "      <td>0</td>\n",
       "      <td>No info</td>\n",
       "      <td>12648</td>\n",
       "      <td>1</td>\n",
       "      <td>03</td>\n",
       "      <td>2019</td>\n",
       "      <td>Morning</td>\n",
       "      <td>Afternoon</td>\n",
       "    </tr>\n",
       "    <tr>\n",
       "      <th>10682</th>\n",
       "      <td>Air India</td>\n",
       "      <td>Delhi</td>\n",
       "      <td>Cochin</td>\n",
       "      <td>500.0</td>\n",
       "      <td>2</td>\n",
       "      <td>No info</td>\n",
       "      <td>11753</td>\n",
       "      <td>9</td>\n",
       "      <td>05</td>\n",
       "      <td>2019</td>\n",
       "      <td>Morning</td>\n",
       "      <td>Evening</td>\n",
       "    </tr>\n",
       "  </tbody>\n",
       "</table>\n",
       "<p>10678 rows × 12 columns</p>\n",
       "</div>"
      ],
      "text/plain": [
       "           Airline    Source Destination  Duration  Total_Stops  \\\n",
       "0           IndiGo  Banglore   New Delhi     170.0            0   \n",
       "1        Air India   Kolkata    Banglore     445.0            2   \n",
       "2      Jet Airways     Delhi      Cochin    1140.0            2   \n",
       "3           IndiGo   Kolkata    Banglore     325.0            1   \n",
       "4           IndiGo  Banglore   New Delhi     285.0            1   \n",
       "...            ...       ...         ...       ...          ...   \n",
       "10678     Air Asia   Kolkata    Banglore     150.0            0   \n",
       "10679    Air India   Kolkata    Banglore     155.0            0   \n",
       "10680  Jet Airways  Banglore       Delhi     180.0            0   \n",
       "10681      Vistara  Banglore   New Delhi     160.0            0   \n",
       "10682    Air India     Delhi      Cochin     500.0            2   \n",
       "\n",
       "      Additional_Info  Price Date Month  Year Dep_Period Arrival_Period  \n",
       "0             No info   3897   24    03  2019    Evening       Midnight  \n",
       "1             No info   7662    1    05  2019   Midnight      Afternoon  \n",
       "2             No info  13882    9    06  2019    Morning       Midnight  \n",
       "3             No info   6218   12    05  2019    Evening        Evening  \n",
       "4             No info  13302    1    03  2019  Afternoon        Evening  \n",
       "...               ...    ...  ...   ...   ...        ...            ...  \n",
       "10678         No info   4107    9    04  2019    Evening        Evening  \n",
       "10679         No info   4145   27    04  2019    Evening        Evening  \n",
       "10680         No info   7229   27    04  2019    Morning        Morning  \n",
       "10681         No info  12648    1    03  2019    Morning      Afternoon  \n",
       "10682         No info  11753    9    05  2019    Morning        Evening  \n",
       "\n",
       "[10678 rows x 12 columns]"
      ]
     },
     "execution_count": 133,
     "metadata": {},
     "output_type": "execute_result"
    }
   ],
   "source": [
    "train"
   ]
  },
  {
   "cell_type": "markdown",
   "metadata": {
    "id": "ZXctzFZxvsSY"
   },
   "source": [
    "## Outlier Detection and Skewness"
   ]
  },
  {
   "cell_type": "code",
   "execution_count": 134,
   "metadata": {
    "colab": {
     "base_uri": "https://localhost:8080/",
     "height": 466
    },
    "id": "OZwgdhydtnQg",
    "outputId": "59319720-6f0f-4b6a-b5f2-02a66ca3ff49"
   },
   "outputs": [
    {
     "data": {
      "text/plain": [
       "<AxesSubplot:xlabel='Duration'>"
      ]
     },
     "execution_count": 134,
     "metadata": {},
     "output_type": "execute_result"
    },
    {
     "data": {
      "image/png": "[encoded data removed]",
      "text/plain": [
       "<Figure size 640x480 with 1 Axes>"
      ]
     },
     "metadata": {},
     "output_type": "display_data"
    }
   ],
   "source": [
    "sns.boxplot(x='Duration', data=train)"
   ]
  },
  {
   "cell_type": "code",
   "execution_count": 135,
   "metadata": {
    "colab": {
     "base_uri": "https://localhost:8080/",
     "height": 467
    },
    "id": "XpIZtB2EtuNk",
    "outputId": "29e040a2-7dec-4a34-81ba-1598f9b699f0"
   },
   "outputs": [
    {
     "data": {
      "text/plain": [
       "<AxesSubplot:xlabel='Total_Stops'>"
      ]
     },
     "execution_count": 135,
     "metadata": {},
     "output_type": "execute_result"
    },
    {
     "data": {
      "image/png": "[encoded data removed]",
      "text/plain": [
       "<Figure size 640x480 with 1 Axes>"
      ]
     },
     "metadata": {},
     "output_type": "display_data"
    }
   ],
   "source": [
    "sns.boxplot(x='Total_Stops', data=train)"
   ]
  },
  {
   "cell_type": "code",
   "execution_count": 136,
   "metadata": {
    "colab": {
     "base_uri": "https://localhost:8080/"
    },
    "id": "EkvFS-lNoW0m",
    "outputId": "94c7df94-a073-4a5d-cc72-b269babb0906"
   },
   "outputs": [],
   "source": [
    "#cols1 = ['Duration', 'Total_Stops']\n",
    "#for column in cols:\n",
    "    #IQR = train[column].quantile(0.75) - train[column].quantile(0.25)\n",
    "    #Lower_fence = train[column].quantile(0.25) - (IQR * 3)\n",
    "    #Upper_fence = train[column].quantile(0.75) + (IQR * 3)\n",
    "    #print(f'{column} outliers are values < {round(Lower_fence,2)} or > {round(Upper_fence,2)}')"
   ]
  },
  {
   "cell_type": "code",
   "execution_count": 137,
   "metadata": {
    "id": "6QF8hfiZsqgI"
   },
   "outputs": [],
   "source": [
    "# For Duration\n",
    "# replacing any value lesser than -2.4 with -2.4\n",
    "# train['Duration'] = np.where(train['Duration'] < -2110.0, -2110.0, train['Duration'])\n",
    "# replacing any value greater than 3.2 with 3.2\n",
    "# train['Duration'] = np.where(train['Duration'] > 3210, 3210, train['Duration'])"
   ]
  },
  {
   "cell_type": "markdown",
   "metadata": {},
   "source": [
    "I have decided not to remove or winsorize the outliers as it didnt improve the models performance."
   ]
  },
  {
   "cell_type": "code",
   "execution_count": 138,
   "metadata": {},
   "outputs": [
    {
     "name": "stderr",
     "output_type": "stream",
     "text": [
      "C:\\Users\\HP\\AppData\\Local\\Temp\\ipykernel_22212\\3574648760.py:1: FutureWarning: Dropping of nuisance columns in DataFrame reductions (with 'numeric_only=None') is deprecated; in a future version this will raise TypeError.  Select only valid columns before calling the reduction.\n",
      "  train.skew()\n"
     ]
    },
    {
     "data": {
      "text/plain": [
       "Duration       0.861697\n",
       "Total_Stops    0.317513\n",
       "Price          1.813197\n",
       "Date           0.118827\n",
       "Month         -0.387622\n",
       "Year           0.000000\n",
       "dtype: float64"
      ]
     },
     "execution_count": 138,
     "metadata": {},
     "output_type": "execute_result"
    }
   ],
   "source": [
    "train.skew()"
   ]
  },
  {
   "cell_type": "code",
   "execution_count": 139,
   "metadata": {
    "colab": {
     "base_uri": "https://localhost:8080/"
    },
    "id": "KY6zIFhMqO-6",
    "outputId": "bc1e27b5-758c-4554-ce60-48d472a5fb40"
   },
   "outputs": [
    {
     "data": {
      "text/plain": [
       "Airline              object\n",
       "Source               object\n",
       "Destination          object\n",
       "Duration            float64\n",
       "Total_Stops           int64\n",
       "Additional_Info      object\n",
       "Price                 int64\n",
       "Date                 object\n",
       "Month                object\n",
       "Year                 object\n",
       "Dep_Period         category\n",
       "Arrival_Period     category\n",
       "dtype: object"
      ]
     },
     "execution_count": 139,
     "metadata": {},
     "output_type": "execute_result"
    }
   ],
   "source": [
    "train.dtypes"
   ]
  },
  {
   "cell_type": "code",
   "execution_count": 141,
   "metadata": {},
   "outputs": [
    {
     "name": "stdout",
     "output_type": "stream",
     "text": [
      "       feature       VIF\n",
      "0  Total_Stops  5.111088\n",
      "1     Duration  5.111088\n"
     ]
    }
   ],
   "source": [
    "from statsmodels.stats.outliers_influence import variance_inflation_factor\n",
    "# the independent variables set\n",
    "X = train[['Total_Stops', 'Duration']]\n",
    "  \n",
    "# VIF dataframe\n",
    "vif_data = pd.DataFrame()\n",
    "vif_data[\"feature\"] = X.columns\n",
    "  \n",
    "# calculating VIF for each feature\n",
    "vif_data[\"VIF\"] = [variance_inflation_factor(X.values, i)\n",
    "                          for i in range(len(X.columns))]\n",
    "  \n",
    "print(vif_data)"
   ]
  },
  {
   "cell_type": "code",
   "execution_count": 143,
   "metadata": {},
   "outputs": [
    {
     "data": {
      "text/html": [
       "<div>\n",
       "<style scoped>\n",
       "    .dataframe tbody tr th:only-of-type {\n",
       "        vertical-align: middle;\n",
       "    }\n",
       "\n",
       "    .dataframe tbody tr th {\n",
       "        vertical-align: top;\n",
       "    }\n",
       "\n",
       "    .dataframe thead th {\n",
       "        text-align: right;\n",
       "    }\n",
       "</style>\n",
       "<table border=\"1\" class=\"dataframe\">\n",
       "  <thead>\n",
       "    <tr style=\"text-align: right;\">\n",
       "      <th></th>\n",
       "      <th>Airline</th>\n",
       "      <th>Source</th>\n",
       "      <th>Destination</th>\n",
       "      <th>Duration</th>\n",
       "      <th>Additional_Info</th>\n",
       "      <th>Date</th>\n",
       "      <th>Month</th>\n",
       "      <th>Year</th>\n",
       "      <th>Dep_Period</th>\n",
       "      <th>Arrival_Period</th>\n",
       "    </tr>\n",
       "  </thead>\n",
       "  <tbody>\n",
       "    <tr>\n",
       "      <th>0</th>\n",
       "      <td>Jet Airways</td>\n",
       "      <td>Delhi</td>\n",
       "      <td>Cochin</td>\n",
       "      <td>655.0</td>\n",
       "      <td>No info</td>\n",
       "      <td>6</td>\n",
       "      <td>06</td>\n",
       "      <td>2019</td>\n",
       "      <td>Afternoon</td>\n",
       "      <td>Midnight</td>\n",
       "    </tr>\n",
       "    <tr>\n",
       "      <th>1</th>\n",
       "      <td>IndiGo</td>\n",
       "      <td>Kolkata</td>\n",
       "      <td>Banglore</td>\n",
       "      <td>240.0</td>\n",
       "      <td>No info</td>\n",
       "      <td>12</td>\n",
       "      <td>05</td>\n",
       "      <td>2019</td>\n",
       "      <td>Morning</td>\n",
       "      <td>Morning</td>\n",
       "    </tr>\n",
       "    <tr>\n",
       "      <th>2</th>\n",
       "      <td>Jet Airways</td>\n",
       "      <td>Delhi</td>\n",
       "      <td>Cochin</td>\n",
       "      <td>1425.0</td>\n",
       "      <td>In-flight meal not included</td>\n",
       "      <td>21</td>\n",
       "      <td>05</td>\n",
       "      <td>2019</td>\n",
       "      <td>Evening</td>\n",
       "      <td>Evening</td>\n",
       "    </tr>\n",
       "    <tr>\n",
       "      <th>3</th>\n",
       "      <td>Multiple carriers</td>\n",
       "      <td>Delhi</td>\n",
       "      <td>Cochin</td>\n",
       "      <td>780.0</td>\n",
       "      <td>No info</td>\n",
       "      <td>21</td>\n",
       "      <td>05</td>\n",
       "      <td>2019</td>\n",
       "      <td>Morning</td>\n",
       "      <td>Evening</td>\n",
       "    </tr>\n",
       "    <tr>\n",
       "      <th>4</th>\n",
       "      <td>Air Asia</td>\n",
       "      <td>Banglore</td>\n",
       "      <td>Delhi</td>\n",
       "      <td>170.0</td>\n",
       "      <td>No info</td>\n",
       "      <td>24</td>\n",
       "      <td>06</td>\n",
       "      <td>2019</td>\n",
       "      <td>Evening</td>\n",
       "      <td>Midnight</td>\n",
       "    </tr>\n",
       "    <tr>\n",
       "      <th>...</th>\n",
       "      <td>...</td>\n",
       "      <td>...</td>\n",
       "      <td>...</td>\n",
       "      <td>...</td>\n",
       "      <td>...</td>\n",
       "      <td>...</td>\n",
       "      <td>...</td>\n",
       "      <td>...</td>\n",
       "      <td>...</td>\n",
       "      <td>...</td>\n",
       "    </tr>\n",
       "    <tr>\n",
       "      <th>2666</th>\n",
       "      <td>Air India</td>\n",
       "      <td>Kolkata</td>\n",
       "      <td>Banglore</td>\n",
       "      <td>1435.0</td>\n",
       "      <td>No info</td>\n",
       "      <td>6</td>\n",
       "      <td>06</td>\n",
       "      <td>2019</td>\n",
       "      <td>Evening</td>\n",
       "      <td>Evening</td>\n",
       "    </tr>\n",
       "    <tr>\n",
       "      <th>2667</th>\n",
       "      <td>IndiGo</td>\n",
       "      <td>Kolkata</td>\n",
       "      <td>Banglore</td>\n",
       "      <td>155.0</td>\n",
       "      <td>No info</td>\n",
       "      <td>27</td>\n",
       "      <td>03</td>\n",
       "      <td>2019</td>\n",
       "      <td>Afternoon</td>\n",
       "      <td>Afternoon</td>\n",
       "    </tr>\n",
       "    <tr>\n",
       "      <th>2668</th>\n",
       "      <td>Jet Airways</td>\n",
       "      <td>Delhi</td>\n",
       "      <td>Cochin</td>\n",
       "      <td>395.0</td>\n",
       "      <td>No info</td>\n",
       "      <td>6</td>\n",
       "      <td>03</td>\n",
       "      <td>2019</td>\n",
       "      <td>Evening</td>\n",
       "      <td>Midnight</td>\n",
       "    </tr>\n",
       "    <tr>\n",
       "      <th>2669</th>\n",
       "      <td>Air India</td>\n",
       "      <td>Delhi</td>\n",
       "      <td>Cochin</td>\n",
       "      <td>915.0</td>\n",
       "      <td>No info</td>\n",
       "      <td>6</td>\n",
       "      <td>03</td>\n",
       "      <td>2019</td>\n",
       "      <td>Midnight</td>\n",
       "      <td>Evening</td>\n",
       "    </tr>\n",
       "    <tr>\n",
       "      <th>2670</th>\n",
       "      <td>Multiple carriers</td>\n",
       "      <td>Delhi</td>\n",
       "      <td>Cochin</td>\n",
       "      <td>860.0</td>\n",
       "      <td>No info</td>\n",
       "      <td>15</td>\n",
       "      <td>06</td>\n",
       "      <td>2019</td>\n",
       "      <td>Midnight</td>\n",
       "      <td>Evening</td>\n",
       "    </tr>\n",
       "  </tbody>\n",
       "</table>\n",
       "<p>2671 rows × 10 columns</p>\n",
       "</div>"
      ],
      "text/plain": [
       "                Airline    Source Destination  Duration  \\\n",
       "0           Jet Airways     Delhi      Cochin     655.0   \n",
       "1                IndiGo   Kolkata    Banglore     240.0   \n",
       "2           Jet Airways     Delhi      Cochin    1425.0   \n",
       "3     Multiple carriers     Delhi      Cochin     780.0   \n",
       "4              Air Asia  Banglore       Delhi     170.0   \n",
       "...                 ...       ...         ...       ...   \n",
       "2666          Air India   Kolkata    Banglore    1435.0   \n",
       "2667             IndiGo   Kolkata    Banglore     155.0   \n",
       "2668        Jet Airways     Delhi      Cochin     395.0   \n",
       "2669          Air India     Delhi      Cochin     915.0   \n",
       "2670  Multiple carriers     Delhi      Cochin     860.0   \n",
       "\n",
       "                  Additional_Info Date Month  Year Dep_Period Arrival_Period  \n",
       "0                         No info    6    06  2019  Afternoon       Midnight  \n",
       "1                         No info   12    05  2019    Morning        Morning  \n",
       "2     In-flight meal not included   21    05  2019    Evening        Evening  \n",
       "3                         No info   21    05  2019    Morning        Evening  \n",
       "4                         No info   24    06  2019    Evening       Midnight  \n",
       "...                           ...  ...   ...   ...        ...            ...  \n",
       "2666                      No info    6    06  2019    Evening        Evening  \n",
       "2667                      No info   27    03  2019  Afternoon      Afternoon  \n",
       "2668                      No info    6    03  2019    Evening       Midnight  \n",
       "2669                      No info    6    03  2019   Midnight        Evening  \n",
       "2670                      No info   15    06  2019   Midnight        Evening  \n",
       "\n",
       "[2671 rows x 10 columns]"
      ]
     },
     "execution_count": 143,
     "metadata": {},
     "output_type": "execute_result"
    }
   ],
   "source": [
    "train.drop(['Total_Stops'], axis=1)\n",
    "test.drop(['Total_Stops'], axis=1)"
   ]
  },
  {
   "cell_type": "markdown",
   "metadata": {
    "id": "gwvc7v3uzJk9"
   },
   "source": [
    "## Encoding Categorical Columns\n"
   ]
  },
  {
   "cell_type": "code",
   "execution_count": 144,
   "metadata": {
    "id": "zvqcshPH0xxg"
   },
   "outputs": [],
   "source": [
    "cat = train[['Airline', 'Source', 'Destination', 'Additional_Info', 'Dep_Period', 'Arrival_Period']]\n",
    "#cat_dummy= pd.get_dummies(cat, drop_first=True)"
   ]
  },
  {
   "cell_type": "code",
   "execution_count": 56,
   "metadata": {
    "colab": {
     "base_uri": "https://localhost:8080/"
    },
    "id": "gh5bzCiZ4OJ0",
    "outputId": "5a15b845-7803-4494-dda1-72686c9bb183"
   },
   "outputs": [
    {
     "name": "stdout",
     "output_type": "stream",
     "text": [
      "Requirement already satisfied: category_encoders in c:\\users\\hp\\anaconda3\\lib\\site-packages (2.6.1)\n",
      "Requirement already satisfied: statsmodels>=0.9.0 in c:\\users\\hp\\anaconda3\\lib\\site-packages (from category_encoders) (0.13.2)\n",
      "Requirement already satisfied: numpy>=1.14.0 in c:\\users\\hp\\anaconda3\\lib\\site-packages (from category_encoders) (1.21.5)\n",
      "Requirement already satisfied: patsy>=0.5.1 in c:\\users\\hp\\anaconda3\\lib\\site-packages (from category_encoders) (0.5.2)\n",
      "Requirement already satisfied: pandas>=1.0.5 in c:\\users\\hp\\anaconda3\\lib\\site-packages (from category_encoders) (1.4.4)\n",
      "Requirement already satisfied: scipy>=1.0.0 in c:\\users\\hp\\anaconda3\\lib\\site-packages (from category_encoders) (1.9.1)\n",
      "Requirement already satisfied: scikit-learn>=0.20.0 in c:\\users\\hp\\anaconda3\\lib\\site-packages (from category_encoders) (1.0.2)\n",
      "Requirement already satisfied: pytz>=2020.1 in c:\\users\\hp\\anaconda3\\lib\\site-packages (from pandas>=1.0.5->category_encoders) (2022.1)\n",
      "Requirement already satisfied: python-dateutil>=2.8.1 in c:\\users\\hp\\anaconda3\\lib\\site-packages (from pandas>=1.0.5->category_encoders) (2.8.2)\n",
      "Requirement already satisfied: six in c:\\users\\hp\\anaconda3\\lib\\site-packages (from patsy>=0.5.1->category_encoders) (1.16.0)\n",
      "Requirement already satisfied: joblib>=0.11 in c:\\users\\hp\\anaconda3\\lib\\site-packages (from scikit-learn>=0.20.0->category_encoders) (1.3.0)\n",
      "Requirement already satisfied: threadpoolctl>=2.0.0 in c:\\users\\hp\\anaconda3\\lib\\site-packages (from scikit-learn>=0.20.0->category_encoders) (2.2.0)\n",
      "Requirement already satisfied: packaging>=21.3 in c:\\users\\hp\\anaconda3\\lib\\site-packages (from statsmodels>=0.9.0->category_encoders) (21.3)\n",
      "Requirement already satisfied: pyparsing!=3.0.5,>=2.0.2 in c:\\users\\hp\\anaconda3\\lib\\site-packages (from packaging>=21.3->statsmodels>=0.9.0->category_encoders) (3.0.9)\n",
      "Note: you may need to restart the kernel to use updated packages.\n"
     ]
    }
   ],
   "source": [
    "pip install category_encoders"
   ]
  },
  {
   "cell_type": "code",
   "execution_count": 146,
   "metadata": {
    "id": "r_LHbMuH3BRG"
   },
   "outputs": [],
   "source": [
    "import category_encoders as ce\n",
    "\n",
    "encoder = ce.OneHotEncoder(cols= cat, handle_unknown='return_nan', return_df=True, use_cat_names=True)"
   ]
  },
  {
   "cell_type": "code",
   "execution_count": 147,
   "metadata": {
    "id": "EJvpgCfY4Vgd"
   },
   "outputs": [],
   "source": [
    "train = encoder.fit_transform(train)"
   ]
  },
  {
   "cell_type": "code",
   "execution_count": 148,
   "metadata": {},
   "outputs": [],
   "source": [
    "test = encoder.fit_transform(test)"
   ]
  },
  {
   "cell_type": "code",
   "execution_count": 149,
   "metadata": {},
   "outputs": [],
   "source": [
    "#train = train.drop(['Total_Stops'], axis=1)\n",
    "#test = test.drop(['Total_Stops'], axis=1)"
   ]
  },
  {
   "cell_type": "code",
   "execution_count": 150,
   "metadata": {},
   "outputs": [
    {
     "data": {
      "text/html": [
       "<div>\n",
       "<style scoped>\n",
       "    .dataframe tbody tr th:only-of-type {\n",
       "        vertical-align: middle;\n",
       "    }\n",
       "\n",
       "    .dataframe tbody tr th {\n",
       "        vertical-align: top;\n",
       "    }\n",
       "\n",
       "    .dataframe thead th {\n",
       "        text-align: right;\n",
       "    }\n",
       "</style>\n",
       "<table border=\"1\" class=\"dataframe\">\n",
       "  <thead>\n",
       "    <tr style=\"text-align: right;\">\n",
       "      <th></th>\n",
       "      <th>Airline_IndiGo</th>\n",
       "      <th>Airline_Air India</th>\n",
       "      <th>Airline_Jet Airways</th>\n",
       "      <th>Airline_SpiceJet</th>\n",
       "      <th>Airline_Multiple carriers</th>\n",
       "      <th>Airline_GoAir</th>\n",
       "      <th>Airline_Vistara</th>\n",
       "      <th>Airline_Air Asia</th>\n",
       "      <th>Airline_Vistara Premium economy</th>\n",
       "      <th>Airline_Jet Airways Business</th>\n",
       "      <th>...</th>\n",
       "      <th>Month</th>\n",
       "      <th>Year</th>\n",
       "      <th>Dep_Period_Midnight</th>\n",
       "      <th>Dep_Period_Morning</th>\n",
       "      <th>Dep_Period_Afternoon</th>\n",
       "      <th>Dep_Period_Evening</th>\n",
       "      <th>Arrival_Period_Midnight</th>\n",
       "      <th>Arrival_Period_Morning</th>\n",
       "      <th>Arrival_Period_Afternoon</th>\n",
       "      <th>Arrival_Period_Evening</th>\n",
       "    </tr>\n",
       "  </thead>\n",
       "  <tbody>\n",
       "    <tr>\n",
       "      <th>0</th>\n",
       "      <td>1.0</td>\n",
       "      <td>0.0</td>\n",
       "      <td>0.0</td>\n",
       "      <td>0.0</td>\n",
       "      <td>0.0</td>\n",
       "      <td>0.0</td>\n",
       "      <td>0.0</td>\n",
       "      <td>0.0</td>\n",
       "      <td>0.0</td>\n",
       "      <td>0.0</td>\n",
       "      <td>...</td>\n",
       "      <td>03</td>\n",
       "      <td>2019</td>\n",
       "      <td>0.0</td>\n",
       "      <td>0.0</td>\n",
       "      <td>0.0</td>\n",
       "      <td>1.0</td>\n",
       "      <td>1.0</td>\n",
       "      <td>0.0</td>\n",
       "      <td>0.0</td>\n",
       "      <td>0.0</td>\n",
       "    </tr>\n",
       "    <tr>\n",
       "      <th>1</th>\n",
       "      <td>0.0</td>\n",
       "      <td>1.0</td>\n",
       "      <td>0.0</td>\n",
       "      <td>0.0</td>\n",
       "      <td>0.0</td>\n",
       "      <td>0.0</td>\n",
       "      <td>0.0</td>\n",
       "      <td>0.0</td>\n",
       "      <td>0.0</td>\n",
       "      <td>0.0</td>\n",
       "      <td>...</td>\n",
       "      <td>05</td>\n",
       "      <td>2019</td>\n",
       "      <td>1.0</td>\n",
       "      <td>0.0</td>\n",
       "      <td>0.0</td>\n",
       "      <td>0.0</td>\n",
       "      <td>0.0</td>\n",
       "      <td>0.0</td>\n",
       "      <td>1.0</td>\n",
       "      <td>0.0</td>\n",
       "    </tr>\n",
       "    <tr>\n",
       "      <th>2</th>\n",
       "      <td>0.0</td>\n",
       "      <td>0.0</td>\n",
       "      <td>1.0</td>\n",
       "      <td>0.0</td>\n",
       "      <td>0.0</td>\n",
       "      <td>0.0</td>\n",
       "      <td>0.0</td>\n",
       "      <td>0.0</td>\n",
       "      <td>0.0</td>\n",
       "      <td>0.0</td>\n",
       "      <td>...</td>\n",
       "      <td>06</td>\n",
       "      <td>2019</td>\n",
       "      <td>0.0</td>\n",
       "      <td>1.0</td>\n",
       "      <td>0.0</td>\n",
       "      <td>0.0</td>\n",
       "      <td>1.0</td>\n",
       "      <td>0.0</td>\n",
       "      <td>0.0</td>\n",
       "      <td>0.0</td>\n",
       "    </tr>\n",
       "    <tr>\n",
       "      <th>3</th>\n",
       "      <td>1.0</td>\n",
       "      <td>0.0</td>\n",
       "      <td>0.0</td>\n",
       "      <td>0.0</td>\n",
       "      <td>0.0</td>\n",
       "      <td>0.0</td>\n",
       "      <td>0.0</td>\n",
       "      <td>0.0</td>\n",
       "      <td>0.0</td>\n",
       "      <td>0.0</td>\n",
       "      <td>...</td>\n",
       "      <td>05</td>\n",
       "      <td>2019</td>\n",
       "      <td>0.0</td>\n",
       "      <td>0.0</td>\n",
       "      <td>0.0</td>\n",
       "      <td>1.0</td>\n",
       "      <td>0.0</td>\n",
       "      <td>0.0</td>\n",
       "      <td>0.0</td>\n",
       "      <td>1.0</td>\n",
       "    </tr>\n",
       "    <tr>\n",
       "      <th>4</th>\n",
       "      <td>1.0</td>\n",
       "      <td>0.0</td>\n",
       "      <td>0.0</td>\n",
       "      <td>0.0</td>\n",
       "      <td>0.0</td>\n",
       "      <td>0.0</td>\n",
       "      <td>0.0</td>\n",
       "      <td>0.0</td>\n",
       "      <td>0.0</td>\n",
       "      <td>0.0</td>\n",
       "      <td>...</td>\n",
       "      <td>03</td>\n",
       "      <td>2019</td>\n",
       "      <td>0.0</td>\n",
       "      <td>0.0</td>\n",
       "      <td>1.0</td>\n",
       "      <td>0.0</td>\n",
       "      <td>0.0</td>\n",
       "      <td>0.0</td>\n",
       "      <td>0.0</td>\n",
       "      <td>1.0</td>\n",
       "    </tr>\n",
       "    <tr>\n",
       "      <th>...</th>\n",
       "      <td>...</td>\n",
       "      <td>...</td>\n",
       "      <td>...</td>\n",
       "      <td>...</td>\n",
       "      <td>...</td>\n",
       "      <td>...</td>\n",
       "      <td>...</td>\n",
       "      <td>...</td>\n",
       "      <td>...</td>\n",
       "      <td>...</td>\n",
       "      <td>...</td>\n",
       "      <td>...</td>\n",
       "      <td>...</td>\n",
       "      <td>...</td>\n",
       "      <td>...</td>\n",
       "      <td>...</td>\n",
       "      <td>...</td>\n",
       "      <td>...</td>\n",
       "      <td>...</td>\n",
       "      <td>...</td>\n",
       "      <td>...</td>\n",
       "    </tr>\n",
       "    <tr>\n",
       "      <th>10678</th>\n",
       "      <td>0.0</td>\n",
       "      <td>0.0</td>\n",
       "      <td>0.0</td>\n",
       "      <td>0.0</td>\n",
       "      <td>0.0</td>\n",
       "      <td>0.0</td>\n",
       "      <td>0.0</td>\n",
       "      <td>1.0</td>\n",
       "      <td>0.0</td>\n",
       "      <td>0.0</td>\n",
       "      <td>...</td>\n",
       "      <td>04</td>\n",
       "      <td>2019</td>\n",
       "      <td>0.0</td>\n",
       "      <td>0.0</td>\n",
       "      <td>0.0</td>\n",
       "      <td>1.0</td>\n",
       "      <td>0.0</td>\n",
       "      <td>0.0</td>\n",
       "      <td>0.0</td>\n",
       "      <td>1.0</td>\n",
       "    </tr>\n",
       "    <tr>\n",
       "      <th>10679</th>\n",
       "      <td>0.0</td>\n",
       "      <td>1.0</td>\n",
       "      <td>0.0</td>\n",
       "      <td>0.0</td>\n",
       "      <td>0.0</td>\n",
       "      <td>0.0</td>\n",
       "      <td>0.0</td>\n",
       "      <td>0.0</td>\n",
       "      <td>0.0</td>\n",
       "      <td>0.0</td>\n",
       "      <td>...</td>\n",
       "      <td>04</td>\n",
       "      <td>2019</td>\n",
       "      <td>0.0</td>\n",
       "      <td>0.0</td>\n",
       "      <td>0.0</td>\n",
       "      <td>1.0</td>\n",
       "      <td>0.0</td>\n",
       "      <td>0.0</td>\n",
       "      <td>0.0</td>\n",
       "      <td>1.0</td>\n",
       "    </tr>\n",
       "    <tr>\n",
       "      <th>10680</th>\n",
       "      <td>0.0</td>\n",
       "      <td>0.0</td>\n",
       "      <td>1.0</td>\n",
       "      <td>0.0</td>\n",
       "      <td>0.0</td>\n",
       "      <td>0.0</td>\n",
       "      <td>0.0</td>\n",
       "      <td>0.0</td>\n",
       "      <td>0.0</td>\n",
       "      <td>0.0</td>\n",
       "      <td>...</td>\n",
       "      <td>04</td>\n",
       "      <td>2019</td>\n",
       "      <td>0.0</td>\n",
       "      <td>1.0</td>\n",
       "      <td>0.0</td>\n",
       "      <td>0.0</td>\n",
       "      <td>0.0</td>\n",
       "      <td>1.0</td>\n",
       "      <td>0.0</td>\n",
       "      <td>0.0</td>\n",
       "    </tr>\n",
       "    <tr>\n",
       "      <th>10681</th>\n",
       "      <td>0.0</td>\n",
       "      <td>0.0</td>\n",
       "      <td>0.0</td>\n",
       "      <td>0.0</td>\n",
       "      <td>0.0</td>\n",
       "      <td>0.0</td>\n",
       "      <td>1.0</td>\n",
       "      <td>0.0</td>\n",
       "      <td>0.0</td>\n",
       "      <td>0.0</td>\n",
       "      <td>...</td>\n",
       "      <td>03</td>\n",
       "      <td>2019</td>\n",
       "      <td>0.0</td>\n",
       "      <td>1.0</td>\n",
       "      <td>0.0</td>\n",
       "      <td>0.0</td>\n",
       "      <td>0.0</td>\n",
       "      <td>0.0</td>\n",
       "      <td>1.0</td>\n",
       "      <td>0.0</td>\n",
       "    </tr>\n",
       "    <tr>\n",
       "      <th>10682</th>\n",
       "      <td>0.0</td>\n",
       "      <td>1.0</td>\n",
       "      <td>0.0</td>\n",
       "      <td>0.0</td>\n",
       "      <td>0.0</td>\n",
       "      <td>0.0</td>\n",
       "      <td>0.0</td>\n",
       "      <td>0.0</td>\n",
       "      <td>0.0</td>\n",
       "      <td>0.0</td>\n",
       "      <td>...</td>\n",
       "      <td>05</td>\n",
       "      <td>2019</td>\n",
       "      <td>0.0</td>\n",
       "      <td>1.0</td>\n",
       "      <td>0.0</td>\n",
       "      <td>0.0</td>\n",
       "      <td>0.0</td>\n",
       "      <td>0.0</td>\n",
       "      <td>0.0</td>\n",
       "      <td>1.0</td>\n",
       "    </tr>\n",
       "  </tbody>\n",
       "</table>\n",
       "<p>10678 rows × 46 columns</p>\n",
       "</div>"
      ],
      "text/plain": [
       "       Airline_IndiGo  Airline_Air India  Airline_Jet Airways  \\\n",
       "0                 1.0                0.0                  0.0   \n",
       "1                 0.0                1.0                  0.0   \n",
       "2                 0.0                0.0                  1.0   \n",
       "3                 1.0                0.0                  0.0   \n",
       "4                 1.0                0.0                  0.0   \n",
       "...               ...                ...                  ...   \n",
       "10678             0.0                0.0                  0.0   \n",
       "10679             0.0                1.0                  0.0   \n",
       "10680             0.0                0.0                  1.0   \n",
       "10681             0.0                0.0                  0.0   \n",
       "10682             0.0                1.0                  0.0   \n",
       "\n",
       "       Airline_SpiceJet  Airline_Multiple carriers  Airline_GoAir  \\\n",
       "0                   0.0                        0.0            0.0   \n",
       "1                   0.0                        0.0            0.0   \n",
       "2                   0.0                        0.0            0.0   \n",
       "3                   0.0                        0.0            0.0   \n",
       "4                   0.0                        0.0            0.0   \n",
       "...                 ...                        ...            ...   \n",
       "10678               0.0                        0.0            0.0   \n",
       "10679               0.0                        0.0            0.0   \n",
       "10680               0.0                        0.0            0.0   \n",
       "10681               0.0                        0.0            0.0   \n",
       "10682               0.0                        0.0            0.0   \n",
       "\n",
       "       Airline_Vistara  Airline_Air Asia  Airline_Vistara Premium economy  \\\n",
       "0                  0.0               0.0                              0.0   \n",
       "1                  0.0               0.0                              0.0   \n",
       "2                  0.0               0.0                              0.0   \n",
       "3                  0.0               0.0                              0.0   \n",
       "4                  0.0               0.0                              0.0   \n",
       "...                ...               ...                              ...   \n",
       "10678              0.0               1.0                              0.0   \n",
       "10679              0.0               0.0                              0.0   \n",
       "10680              0.0               0.0                              0.0   \n",
       "10681              1.0               0.0                              0.0   \n",
       "10682              0.0               0.0                              0.0   \n",
       "\n",
       "       Airline_Jet Airways Business  ...  Month  Year  Dep_Period_Midnight  \\\n",
       "0                               0.0  ...     03  2019                  0.0   \n",
       "1                               0.0  ...     05  2019                  1.0   \n",
       "2                               0.0  ...     06  2019                  0.0   \n",
       "3                               0.0  ...     05  2019                  0.0   \n",
       "4                               0.0  ...     03  2019                  0.0   \n",
       "...                             ...  ...    ...   ...                  ...   \n",
       "10678                           0.0  ...     04  2019                  0.0   \n",
       "10679                           0.0  ...     04  2019                  0.0   \n",
       "10680                           0.0  ...     04  2019                  0.0   \n",
       "10681                           0.0  ...     03  2019                  0.0   \n",
       "10682                           0.0  ...     05  2019                  0.0   \n",
       "\n",
       "       Dep_Period_Morning  Dep_Period_Afternoon  Dep_Period_Evening  \\\n",
       "0                     0.0                   0.0                 1.0   \n",
       "1                     0.0                   0.0                 0.0   \n",
       "2                     1.0                   0.0                 0.0   \n",
       "3                     0.0                   0.0                 1.0   \n",
       "4                     0.0                   1.0                 0.0   \n",
       "...                   ...                   ...                 ...   \n",
       "10678                 0.0                   0.0                 1.0   \n",
       "10679                 0.0                   0.0                 1.0   \n",
       "10680                 1.0                   0.0                 0.0   \n",
       "10681                 1.0                   0.0                 0.0   \n",
       "10682                 1.0                   0.0                 0.0   \n",
       "\n",
       "       Arrival_Period_Midnight  Arrival_Period_Morning  \\\n",
       "0                          1.0                     0.0   \n",
       "1                          0.0                     0.0   \n",
       "2                          1.0                     0.0   \n",
       "3                          0.0                     0.0   \n",
       "4                          0.0                     0.0   \n",
       "...                        ...                     ...   \n",
       "10678                      0.0                     0.0   \n",
       "10679                      0.0                     0.0   \n",
       "10680                      0.0                     1.0   \n",
       "10681                      0.0                     0.0   \n",
       "10682                      0.0                     0.0   \n",
       "\n",
       "       Arrival_Period_Afternoon  Arrival_Period_Evening  \n",
       "0                           0.0                     0.0  \n",
       "1                           1.0                     0.0  \n",
       "2                           0.0                     0.0  \n",
       "3                           0.0                     1.0  \n",
       "4                           0.0                     1.0  \n",
       "...                         ...                     ...  \n",
       "10678                       0.0                     1.0  \n",
       "10679                       0.0                     1.0  \n",
       "10680                       0.0                     0.0  \n",
       "10681                       1.0                     0.0  \n",
       "10682                       0.0                     1.0  \n",
       "\n",
       "[10678 rows x 46 columns]"
      ]
     },
     "execution_count": 150,
     "metadata": {},
     "output_type": "execute_result"
    }
   ],
   "source": [
    "train"
   ]
  },
  {
   "cell_type": "code",
   "execution_count": 151,
   "metadata": {},
   "outputs": [],
   "source": [
    "# The test data has some missing columns compared to the train data. So I am going to add those columns to the test data with zero values.\n",
    "test['Airline_Trujet'] = 0\n",
    "test['Additional_Info_1 Short layover'] = 0\n",
    "test['Additional_Info_2 Long layover'] = 0\n",
    "test['Additional_Info_Red-eye flight'] = 0"
   ]
  },
  {
   "cell_type": "code",
   "execution_count": 152,
   "metadata": {},
   "outputs": [
    {
     "name": "stdout",
     "output_type": "stream",
     "text": [
      "<class 'pandas.core.frame.DataFrame'>\n",
      "Int64Index: 10678 entries, 0 to 10682\n",
      "Data columns (total 46 columns):\n",
      " #   Column                                        Non-Null Count  Dtype  \n",
      "---  ------                                        --------------  -----  \n",
      " 0   Airline_IndiGo                                10678 non-null  float64\n",
      " 1   Airline_Air India                             10678 non-null  float64\n",
      " 2   Airline_Jet Airways                           10678 non-null  float64\n",
      " 3   Airline_SpiceJet                              10678 non-null  float64\n",
      " 4   Airline_Multiple carriers                     10678 non-null  float64\n",
      " 5   Airline_GoAir                                 10678 non-null  float64\n",
      " 6   Airline_Vistara                               10678 non-null  float64\n",
      " 7   Airline_Air Asia                              10678 non-null  float64\n",
      " 8   Airline_Vistara Premium economy               10678 non-null  float64\n",
      " 9   Airline_Jet Airways Business                  10678 non-null  float64\n",
      " 10  Airline_Multiple carriers Premium economy     10678 non-null  float64\n",
      " 11  Airline_Trujet                                10678 non-null  float64\n",
      " 12  Source_Banglore                               10678 non-null  float64\n",
      " 13  Source_Kolkata                                10678 non-null  float64\n",
      " 14  Source_Delhi                                  10678 non-null  float64\n",
      " 15  Source_Chennai                                10678 non-null  float64\n",
      " 16  Source_Mumbai                                 10678 non-null  float64\n",
      " 17  Destination_New Delhi                         10678 non-null  float64\n",
      " 18  Destination_Banglore                          10678 non-null  float64\n",
      " 19  Destination_Cochin                            10678 non-null  float64\n",
      " 20  Destination_Kolkata                           10678 non-null  float64\n",
      " 21  Destination_Delhi                             10678 non-null  float64\n",
      " 22  Destination_Hyderabad                         10678 non-null  float64\n",
      " 23  Duration                                      10678 non-null  float64\n",
      " 24  Total_Stops                                   10678 non-null  int64  \n",
      " 25  Additional_Info_No info                       10678 non-null  float64\n",
      " 26  Additional_Info_In-flight meal not included   10678 non-null  float64\n",
      " 27  Additional_Info_No check-in baggage included  10678 non-null  float64\n",
      " 28  Additional_Info_1 Short layover               10678 non-null  float64\n",
      " 29  Additional_Info_1 Long layover                10678 non-null  float64\n",
      " 30  Additional_Info_Change airports               10678 non-null  float64\n",
      " 31  Additional_Info_Business class                10678 non-null  float64\n",
      " 32  Additional_Info_Red-eye flight                10678 non-null  float64\n",
      " 33  Additional_Info_2 Long layover                10678 non-null  float64\n",
      " 34  Price                                         10678 non-null  int64  \n",
      " 35  Date                                          10678 non-null  object \n",
      " 36  Month                                         10678 non-null  object \n",
      " 37  Year                                          10678 non-null  object \n",
      " 38  Dep_Period_Midnight                           10678 non-null  float64\n",
      " 39  Dep_Period_Morning                            10678 non-null  float64\n",
      " 40  Dep_Period_Afternoon                          10678 non-null  float64\n",
      " 41  Dep_Period_Evening                            10678 non-null  float64\n",
      " 42  Arrival_Period_Midnight                       10678 non-null  float64\n",
      " 43  Arrival_Period_Morning                        10678 non-null  float64\n",
      " 44  Arrival_Period_Afternoon                      10678 non-null  float64\n",
      " 45  Arrival_Period_Evening                        10678 non-null  float64\n",
      "dtypes: float64(41), int64(2), object(3)\n",
      "memory usage: 3.8+ MB\n"
     ]
    }
   ],
   "source": [
    "train.info()"
   ]
  },
  {
   "cell_type": "code",
   "execution_count": 153,
   "metadata": {
    "scrolled": false
   },
   "outputs": [
    {
     "name": "stdout",
     "output_type": "stream",
     "text": [
      "<class 'pandas.core.frame.DataFrame'>\n",
      "RangeIndex: 2671 entries, 0 to 2670\n",
      "Data columns (total 45 columns):\n",
      " #   Column                                        Non-Null Count  Dtype  \n",
      "---  ------                                        --------------  -----  \n",
      " 0   Airline_Jet Airways                           2671 non-null   float64\n",
      " 1   Airline_IndiGo                                2671 non-null   float64\n",
      " 2   Airline_Multiple carriers                     2671 non-null   float64\n",
      " 3   Airline_Air Asia                              2671 non-null   float64\n",
      " 4   Airline_Air India                             2671 non-null   float64\n",
      " 5   Airline_Vistara                               2671 non-null   float64\n",
      " 6   Airline_SpiceJet                              2671 non-null   float64\n",
      " 7   Airline_Vistara Premium economy               2671 non-null   float64\n",
      " 8   Airline_GoAir                                 2671 non-null   float64\n",
      " 9   Airline_Multiple carriers Premium economy     2671 non-null   float64\n",
      " 10  Airline_Jet Airways Business                  2671 non-null   float64\n",
      " 11  Source_Delhi                                  2671 non-null   float64\n",
      " 12  Source_Kolkata                                2671 non-null   float64\n",
      " 13  Source_Banglore                               2671 non-null   float64\n",
      " 14  Source_Mumbai                                 2671 non-null   float64\n",
      " 15  Source_Chennai                                2671 non-null   float64\n",
      " 16  Destination_Cochin                            2671 non-null   float64\n",
      " 17  Destination_Banglore                          2671 non-null   float64\n",
      " 18  Destination_Delhi                             2671 non-null   float64\n",
      " 19  Destination_New Delhi                         2671 non-null   float64\n",
      " 20  Destination_Hyderabad                         2671 non-null   float64\n",
      " 21  Destination_Kolkata                           2671 non-null   float64\n",
      " 22  Duration                                      2671 non-null   float64\n",
      " 23  Total_Stops                                   2671 non-null   int64  \n",
      " 24  Additional_Info_No info                       2671 non-null   float64\n",
      " 25  Additional_Info_In-flight meal not included   2671 non-null   float64\n",
      " 26  Additional_Info_No check-in baggage included  2671 non-null   float64\n",
      " 27  Additional_Info_1 Long layover                2671 non-null   float64\n",
      " 28  Additional_Info_Business class                2671 non-null   float64\n",
      " 29  Additional_Info_Change airports               2671 non-null   float64\n",
      " 30  Date                                          2671 non-null   object \n",
      " 31  Month                                         2671 non-null   object \n",
      " 32  Year                                          2671 non-null   object \n",
      " 33  Dep_Period_Midnight                           2671 non-null   float64\n",
      " 34  Dep_Period_Morning                            2671 non-null   float64\n",
      " 35  Dep_Period_Afternoon                          2671 non-null   float64\n",
      " 36  Dep_Period_Evening                            2671 non-null   float64\n",
      " 37  Arrival_Period_Midnight                       2671 non-null   float64\n",
      " 38  Arrival_Period_Morning                        2671 non-null   float64\n",
      " 39  Arrival_Period_Afternoon                      2671 non-null   float64\n",
      " 40  Arrival_Period_Evening                        2671 non-null   float64\n",
      " 41  Airline_Trujet                                2671 non-null   int64  \n",
      " 42  Additional_Info_1 Short layover               2671 non-null   int64  \n",
      " 43  Additional_Info_2 Long layover                2671 non-null   int64  \n",
      " 44  Additional_Info_Red-eye flight                2671 non-null   int64  \n",
      "dtypes: float64(37), int64(5), object(3)\n",
      "memory usage: 939.1+ KB\n"
     ]
    }
   ],
   "source": [
    "test.info()"
   ]
  },
  {
   "cell_type": "code",
   "execution_count": 154,
   "metadata": {},
   "outputs": [],
   "source": [
    "tr = []\n",
    "tr.append(train.columns)"
   ]
  },
  {
   "cell_type": "code",
   "execution_count": 155,
   "metadata": {},
   "outputs": [],
   "source": [
    "tel = []\n",
    "tel.append(test.columns)"
   ]
  },
  {
   "cell_type": "markdown",
   "metadata": {
    "id": "z19gSMlBATwU"
   },
   "source": [
    "## Validation Split"
   ]
  },
  {
   "cell_type": "code",
   "execution_count": 156,
   "metadata": {},
   "outputs": [],
   "source": [
    "#train.columns"
   ]
  },
  {
   "cell_type": "code",
   "execution_count": 157,
   "metadata": {},
   "outputs": [],
   "source": [
    "#test.columns"
   ]
  },
  {
   "cell_type": "code",
   "execution_count": 158,
   "metadata": {},
   "outputs": [],
   "source": [
    "train = train.sort_index(axis = 1)\n",
    "test = test.sort_index(axis = 1)"
   ]
  },
  {
   "cell_type": "code",
   "execution_count": 159,
   "metadata": {
    "id": "gsLN3tfSjPlh"
   },
   "outputs": [],
   "source": [
    "from sklearn.model_selection import train_test_split\n",
    "\n",
    "features = train.drop('Price', axis=1)\n",
    "target = train['Price']\n",
    "\n",
    "X_train, X_val, y_train, y_val = train_test_split(features, target, test_size = 0.3, random_state = 1)"
   ]
  },
  {
   "cell_type": "code",
   "execution_count": 160,
   "metadata": {},
   "outputs": [
    {
     "name": "stdout",
     "output_type": "stream",
     "text": [
      "Train Result: 0.8857354274987681\n",
      "Test Result: 0.6369318095468901\n"
     ]
    }
   ],
   "source": [
    "from sklearn.linear_model import LinearRegression\n",
    "\n",
    "model = LinearRegression()\n",
    "model.fit(X_train, y_train)\n",
    "\n",
    "y_pred_train = model.predict(X_train)\n",
    "result_train = 1 - np.sqrt(np.square(np.log10(y_pred_train +1) - np.log10(y_train +1)).mean())\n",
    "\n",
    "y_pred_test = model.predict(X_val)\n",
    "result_test = 1 - np.sqrt(np.square(np.log10(y_pred_test +1) - np.log10(y_val +1)).mean())\n",
    "\n",
    "print(\"Train Result:\", result_train)\n",
    "print(\"Test Result:\", result_test)"
   ]
  },
  {
   "cell_type": "code",
   "execution_count": 161,
   "metadata": {},
   "outputs": [
    {
     "name": "stdout",
     "output_type": "stream",
     "text": [
      "Train Result: 0.9850741144329398\n",
      "Test Result: 0.9198771890899424\n"
     ]
    }
   ],
   "source": [
    "from sklearn.tree import DecisionTreeRegressor\n",
    "\n",
    "model = DecisionTreeRegressor(random_state = 1234)\n",
    "model.fit(X_train, y_train)\n",
    "\n",
    "y_pred_train = model.predict(X_train)\n",
    "result_train = 1 - np.sqrt(np.square(np.log10(y_pred_train +1) - np.log10(y_train +1)).mean())\n",
    "\n",
    "y_pred_test = model.predict(X_val)\n",
    "result_test = 1 - np.sqrt(np.square(np.log10(y_pred_test +1) - np.log10(y_val +1)).mean())\n",
    "\n",
    "print(\"Train Result:\", result_train)\n",
    "print(\"Test Result:\", result_test)"
   ]
  },
  {
   "cell_type": "code",
   "execution_count": 173,
   "metadata": {},
   "outputs": [
    {
     "name": "stdout",
     "output_type": "stream",
     "text": [
      "Train Result: 0.9196582508825412\n",
      "Test Result: 0.9180505546829166\n"
     ]
    }
   ],
   "source": [
    "from sklearn.ensemble import GradientBoostingRegressor\n",
    "\n",
    "model = GradientBoostingRegressor()\n",
    "model.fit(X_train, y_train)\n",
    "\n",
    "y_pred_train = model.predict(X_train)\n",
    "result_train = 1 - np.sqrt(np.square(np.log10(y_pred_train +1) - np.log10(y_train +1)).mean())\n",
    "\n",
    "y_pred_test = model.predict(X_val)\n",
    "result_test = 1 - np.sqrt(np.square(np.log10(y_pred_test +1) - np.log10(y_val +1)).mean())\n",
    "\n",
    "print(\"Train Result:\", result_train)\n",
    "print(\"Test Result:\", result_test)"
   ]
  },
  {
   "cell_type": "code",
   "execution_count": 162,
   "metadata": {
    "colab": {
     "base_uri": "https://localhost:8080/"
    },
    "id": "qEONvX7sjPiq",
    "outputId": "a2214b77-e72e-403a-c577-9daf5d866940"
   },
   "outputs": [
    {
     "name": "stdout",
     "output_type": "stream",
     "text": [
      "Train Result: 0.9732441660906539\n",
      "Test Result: 0.9368343638604294\n"
     ]
    }
   ],
   "source": [
    "from sklearn.ensemble import RandomForestRegressor\n",
    "\n",
    "model = RandomForestRegressor(random_state = 1234)\n",
    "model.fit(X_train, y_train)\n",
    "\n",
    "y_pred_train = model.predict(X_train)\n",
    "result_train = 1 - np.sqrt(np.square(np.log10(y_pred_train +1) - np.log10(y_train +1)).mean())\n",
    "\n",
    "y_pred_test = model.predict(X_val)\n",
    "result_test = 1 - np.sqrt(np.square(np.log10(y_pred_test +1) - np.log10(y_val +1)).mean())\n",
    "\n",
    "print(\"Train Result:\", result_train)\n",
    "print(\"Test Result:\", result_test)"
   ]
  },
  {
   "cell_type": "markdown",
   "metadata": {
    "id": "LasryZGmjXgz"
   },
   "source": [
    "## Feature Selection"
   ]
  },
  {
   "cell_type": "code",
   "execution_count": 163,
   "metadata": {},
   "outputs": [
    {
     "name": "stdout",
     "output_type": "stream",
     "text": [
      "The optimal number of features: 41\n",
      "Best features: Index(['Additional_Info_1 Long layover', 'Additional_Info_Change airports',\n",
      "       'Additional_Info_In-flight meal not included',\n",
      "       'Additional_Info_No check-in baggage included',\n",
      "       'Additional_Info_No info', 'Additional_Info_Red-eye flight',\n",
      "       'Airline_Air Asia', 'Airline_Air India', 'Airline_GoAir',\n",
      "       'Airline_IndiGo', 'Airline_Jet Airways', 'Airline_Jet Airways Business',\n",
      "       'Airline_Multiple carriers',\n",
      "       'Airline_Multiple carriers Premium economy', 'Airline_SpiceJet',\n",
      "       'Airline_Trujet', 'Airline_Vistara', 'Airline_Vistara Premium economy',\n",
      "       'Arrival_Period_Afternoon', 'Arrival_Period_Evening',\n",
      "       'Arrival_Period_Midnight', 'Arrival_Period_Morning', 'Date',\n",
      "       'Dep_Period_Afternoon', 'Dep_Period_Evening', 'Dep_Period_Midnight',\n",
      "       'Dep_Period_Morning', 'Destination_Banglore', 'Destination_Cochin',\n",
      "       'Destination_Delhi', 'Destination_Hyderabad', 'Destination_Kolkata',\n",
      "       'Destination_New Delhi', 'Duration', 'Month', 'Source_Banglore',\n",
      "       'Source_Chennai', 'Source_Delhi', 'Source_Kolkata', 'Source_Mumbai',\n",
      "       'Total_Stops'],\n",
      "      dtype='object')\n"
     ]
    }
   ],
   "source": [
    "from sklearn.feature_selection import RFECV\n",
    "\n",
    "rfecv = RFECV(estimator = model, step = 1, cv = 5, scoring = 'r2')\n",
    "rfecv = rfecv.fit(X_train, y_train)\n",
    "\n",
    "print(\"The optimal number of features:\", rfecv.n_features_)\n",
    "print(\"Best features:\", X_train.columns[rfecv.support_])"
   ]
  },
  {
   "cell_type": "markdown",
   "metadata": {},
   "source": [
    "The important features are - Additional_Info, Airline, Arrival Period, Departure Period, Destination, Date, Duration, Month, Source, Total Stops"
   ]
  },
  {
   "cell_type": "code",
   "execution_count": 164,
   "metadata": {},
   "outputs": [
    {
     "name": "stdout",
     "output_type": "stream",
     "text": [
      "Test Result: 0.9361310742410307\n"
     ]
    }
   ],
   "source": [
    "X_train_selected = rfecv.transform(X_train)\n",
    "X_val_selected = rfecv.transform(X_val)\n",
    "\n",
    "model = RandomForestRegressor()\n",
    "model.fit(X_train_selected, y_train)\n",
    "y_pred_test = model.predict(X_val_selected)\n",
    "result_test = 1 - np.sqrt(np.square(np.log10(y_pred_test +1) - np.log10(y_val +1)).mean())\n",
    "print(\"Test Result:\", result_test)"
   ]
  },
  {
   "cell_type": "code",
   "execution_count": 165,
   "metadata": {
    "scrolled": false
   },
   "outputs": [],
   "source": [
    "test_selected = rfecv.transform(test)\n",
    "test['Price'] = model.predict(test_selected)\n",
    "test['Price'].to_csv('submission.csv', index=False)"
   ]
  },
  {
   "cell_type": "markdown",
   "metadata": {},
   "source": [
    "## Hyperparameter Tuning"
   ]
  },
  {
   "cell_type": "code",
   "execution_count": 166,
   "metadata": {},
   "outputs": [],
   "source": [
    "import optuna"
   ]
  },
  {
   "cell_type": "code",
   "execution_count": 167,
   "metadata": {},
   "outputs": [],
   "source": [
    "def objective(trial):\n",
    "    param_space = {\n",
    "        'n_estimators': trial.suggest_int('n_estimators', 10, 200),\n",
    "        'max_depth': trial.suggest_int('max_depth', 3, 20),\n",
    "        'min_samples_split': trial.suggest_int('min_samples_split', 2, 20),\n",
    "        'min_samples_leaf': trial.suggest_int('min_samples_leaf', 1, 10),\n",
    "        'max_features': trial.suggest_categorical('max_features', ['sqrt', 'auto'])\n",
    "    }\n",
    "    rfr = RandomForestRegressor(random_state = 1234, **param_space)\n",
    "    rfr.fit(X_train, y_train)\n",
    "    y_pred_test = rfr.predict(X_val)\n",
    "    return 1 - np.sqrt(np.square(np.log10(y_pred_test +1) - np.log10(y_val +1)).mean())"
   ]
  },
  {
   "cell_type": "code",
   "execution_count": 168,
   "metadata": {
    "scrolled": true
   },
   "outputs": [
    {
     "name": "stderr",
     "output_type": "stream",
     "text": [
      "[I 2023-07-06 00:16:12,997] A new study created in memory with name: no-name-4b39746e-9b82-479d-9364-5169bb3cc0fa\n",
      "[I 2023-07-06 00:16:15,498] Trial 0 finished with value: 0.9267249356590999 and parameters: {'n_estimators': 185, 'max_depth': 11, 'min_samples_split': 9, 'min_samples_leaf': 6, 'max_features': 'auto'}. Best is trial 0 with value: 0.9267249356590999.\n",
      "[I 2023-07-06 00:16:15,624] Trial 1 finished with value: 0.9056515436293175 and parameters: {'n_estimators': 19, 'max_depth': 9, 'min_samples_split': 9, 'min_samples_leaf': 1, 'max_features': 'sqrt'}. Best is trial 0 with value: 0.9267249356590999.\n",
      "[I 2023-07-06 00:16:17,396] Trial 2 finished with value: 0.9248116006382756 and parameters: {'n_estimators': 132, 'max_depth': 16, 'min_samples_split': 19, 'min_samples_leaf': 9, 'max_features': 'auto'}. Best is trial 0 with value: 0.9267249356590999.\n",
      "[I 2023-07-06 00:16:17,792] Trial 3 finished with value: 0.8871752690976649 and parameters: {'n_estimators': 132, 'max_depth': 6, 'min_samples_split': 8, 'min_samples_leaf': 1, 'max_features': 'sqrt'}. Best is trial 0 with value: 0.9267249356590999.\n",
      "[I 2023-07-06 00:16:17,982] Trial 4 finished with value: 0.8512113853239953 and parameters: {'n_estimators': 66, 'max_depth': 3, 'min_samples_split': 18, 'min_samples_leaf': 5, 'max_features': 'sqrt'}. Best is trial 0 with value: 0.9267249356590999.\n",
      "[I 2023-07-06 00:16:18,454] Trial 5 finished with value: 0.9024752310494193 and parameters: {'n_estimators': 136, 'max_depth': 9, 'min_samples_split': 2, 'min_samples_leaf': 8, 'max_features': 'sqrt'}. Best is trial 0 with value: 0.9267249356590999.\n",
      "[I 2023-07-06 00:16:19,807] Trial 6 finished with value: 0.8948387252641576 and parameters: {'n_estimators': 145, 'max_depth': 5, 'min_samples_split': 12, 'min_samples_leaf': 3, 'max_features': 'auto'}. Best is trial 0 with value: 0.9267249356590999.\n",
      "[I 2023-07-06 00:16:20,257] Trial 7 finished with value: 0.916588048659498 and parameters: {'n_estimators': 78, 'max_depth': 20, 'min_samples_split': 10, 'min_samples_leaf': 5, 'max_features': 'sqrt'}. Best is trial 0 with value: 0.9267249356590999.\n",
      "[I 2023-07-06 00:16:20,788] Trial 8 finished with value: 0.8850078690624626 and parameters: {'n_estimators': 190, 'max_depth': 6, 'min_samples_split': 12, 'min_samples_leaf': 7, 'max_features': 'sqrt'}. Best is trial 0 with value: 0.9267249356590999.\n",
      "[I 2023-07-06 00:16:23,207] Trial 9 finished with value: 0.9238152042117489 and parameters: {'n_estimators': 186, 'max_depth': 15, 'min_samples_split': 18, 'min_samples_leaf': 10, 'max_features': 'auto'}. Best is trial 0 with value: 0.9267249356590999.\n",
      "[I 2023-07-06 00:16:25,927] Trial 10 finished with value: 0.9281965073500303 and parameters: {'n_estimators': 198, 'max_depth': 13, 'min_samples_split': 3, 'min_samples_leaf': 6, 'max_features': 'auto'}. Best is trial 10 with value: 0.9281965073500303.\n",
      "[I 2023-07-06 00:16:28,564] Trial 11 finished with value: 0.9282010735697515 and parameters: {'n_estimators': 194, 'max_depth': 13, 'min_samples_split': 2, 'min_samples_leaf': 6, 'max_features': 'auto'}. Best is trial 11 with value: 0.9282010735697515.\n",
      "[I 2023-07-06 00:16:31,559] Trial 12 finished with value: 0.9333036924112633 and parameters: {'n_estimators': 199, 'max_depth': 14, 'min_samples_split': 2, 'min_samples_leaf': 3, 'max_features': 'auto'}. Best is trial 12 with value: 0.9333036924112633.\n",
      "[I 2023-07-06 00:16:34,121] Trial 13 finished with value: 0.9338820785475362 and parameters: {'n_estimators': 162, 'max_depth': 18, 'min_samples_split': 5, 'min_samples_leaf': 3, 'max_features': 'auto'}. Best is trial 13 with value: 0.9338820785475362.\n",
      "[I 2023-07-06 00:16:36,729] Trial 14 finished with value: 0.9339141565480306 and parameters: {'n_estimators': 164, 'max_depth': 19, 'min_samples_split': 5, 'min_samples_leaf': 3, 'max_features': 'auto'}. Best is trial 14 with value: 0.9339141565480306.\n",
      "[I 2023-07-06 00:16:39,259] Trial 15 finished with value: 0.9339158175224612 and parameters: {'n_estimators': 159, 'max_depth': 19, 'min_samples_split': 6, 'min_samples_leaf': 3, 'max_features': 'auto'}. Best is trial 15 with value: 0.9339158175224612.\n",
      "[I 2023-07-06 00:16:40,879] Trial 16 finished with value: 0.9317332288519956 and parameters: {'n_estimators': 106, 'max_depth': 20, 'min_samples_split': 6, 'min_samples_leaf': 4, 'max_features': 'auto'}. Best is trial 15 with value: 0.9339158175224612.\n",
      "[I 2023-07-06 00:16:43,238] Trial 17 finished with value: 0.9315257574901163 and parameters: {'n_estimators': 162, 'max_depth': 17, 'min_samples_split': 15, 'min_samples_leaf': 2, 'max_features': 'auto'}. Best is trial 15 with value: 0.9339158175224612.\n",
      "[I 2023-07-06 00:16:44,847] Trial 18 finished with value: 0.9317383649495743 and parameters: {'n_estimators': 105, 'max_depth': 18, 'min_samples_split': 6, 'min_samples_leaf': 4, 'max_features': 'auto'}. Best is trial 15 with value: 0.9339158175224612.\n",
      "[I 2023-07-06 00:16:47,582] Trial 19 finished with value: 0.9359107356856263 and parameters: {'n_estimators': 164, 'max_depth': 20, 'min_samples_split': 5, 'min_samples_leaf': 2, 'max_features': 'auto'}. Best is trial 19 with value: 0.9359107356856263.\n"
     ]
    }
   ],
   "source": [
    "study = optuna.create_study(direction='maximize')\n",
    "study.optimize(objective, n_trials=20)"
   ]
  },
  {
   "cell_type": "code",
   "execution_count": 169,
   "metadata": {
    "scrolled": true
   },
   "outputs": [
    {
     "name": "stdout",
     "output_type": "stream",
     "text": [
      "Best Parameters: {'n_estimators': 164, 'max_depth': 20, 'min_samples_split': 5, 'min_samples_leaf': 2, 'max_features': 'auto'}\n"
     ]
    }
   ],
   "source": [
    "print('Best Parameters:', study.best_params)"
   ]
  },
  {
   "cell_type": "code",
   "execution_count": 170,
   "metadata": {},
   "outputs": [
    {
     "data": {
      "text/plain": [
       "RandomForestRegressor(max_depth=20, min_samples_leaf=2, min_samples_split=5,\n",
       "                      n_estimators=164)"
      ]
     },
     "execution_count": 170,
     "metadata": {},
     "output_type": "execute_result"
    }
   ],
   "source": [
    "best_params = study.best_params\n",
    "rfr_tuned = RandomForestRegressor(**best_params)\n",
    "rfr_tuned.fit(X_train_selected, y_train)"
   ]
  },
  {
   "cell_type": "code",
   "execution_count": 171,
   "metadata": {},
   "outputs": [
    {
     "name": "stdout",
     "output_type": "stream",
     "text": [
      "Test Result: 0.9359242486305379\n"
     ]
    }
   ],
   "source": [
    "#y_pred_train = model.predict(X_train)\n",
    "#result_train = 1 - np.sqrt(np.square(np.log10(y_pred_train +1) - np.log10(y_train +1)).mean())\n",
    "\n",
    "y_pred_test = rfr_tuned.predict(X_val_selected)\n",
    "result_test = 1 - np.sqrt(np.square(np.log10(y_pred_test +1) - np.log10(y_val +1)).mean())\n",
    "#print(\"Train Result:\", result_train)\n",
    "print(\"Test Result:\", result_test)"
   ]
  }
 ],
 "metadata": {
  "colab": {
   "provenance": []
  },
  "kernelspec": {
   "display_name": "Python 3 (ipykernel)",
   "language": "python",
   "name": "python3"
  },
  "language_info": {
   "codemirror_mode": {
    "name": "ipython",
    "version": 3
   },
   "file_extension": ".py",
   "mimetype": "text/x-python",
   "name": "python",
   "nbconvert_exporter": "python",
   "pygments_lexer": "ipython3",
   "version": "3.9.13"
  }
 },
 "nbformat": 4,
 "nbformat_minor": 1
}
